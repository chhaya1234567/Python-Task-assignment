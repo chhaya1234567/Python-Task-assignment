{
 "cells": [
  {
   "cell_type": "markdown",
   "id": "f17cd06d-2a44-4643-a27b-0ce89020c809",
   "metadata": {},
   "source": [
    "## Q1 Write a program to accept percentage from the user and display the grade according to the follwing criteria"
   ]
  },
  {
   "attachments": {
    "a7503bd3-32bb-4429-ada7-af32ba6bbf6b.png": {
     "image/png": "[encoded data removed]"
    }
   },
   "cell_type": "markdown",
   "id": "72c2ccca-5eac-498d-a0e7-833afcf3683d",
   "metadata": {},
   "source": [
    "![image.png](attachment:a7503bd3-32bb-4429-ada7-af32ba6bbf6b.png)\n"
   ]
  },
  {
   "cell_type": "code",
   "execution_count": 1,
   "id": "451883b2-4631-4274-b631-c93f0b02c66e",
   "metadata": {},
   "outputs": [
    {
     "name": "stdin",
     "output_type": "stream",
     "text": [
      "Enter the percentage: 80\n"
     ]
    },
    {
     "name": "stdout",
     "output_type": "stream",
     "text": [
      "Grade=C\n"
     ]
    }
   ],
   "source": [
    "percentage=int(input(\"Enter the percentage:\"))\n",
    "if(percentage>90):\n",
    "    print(\"Grade=A\")\n",
    "elif(percentage>80 and percentage<=90):\n",
    "    print(\"Grade=B\")\n",
    "elif(percentage>=60 and percentage<=80): \n",
    "    print(\"Grade=C\")\n",
    "else:\n",
    "    print(\"Grade=D\")\n"
   ]
  },
  {
   "cell_type": "markdown",
   "id": "f9990e2c-e259-4dcb-97a8-c576eb841f00",
   "metadata": {},
   "source": [
    "## Q2 Write a program to accept the cost price of a bike and display the road tax to be paid according to the following criteria."
   ]
  },
  {
   "attachments": {
    "0372f311-2647-400f-aee5-263d83dcbacc.png": {
     "image/png": "[encoded data removed]"
    }
   },
   "cell_type": "markdown",
   "id": "e0831dad-7a2e-405b-aebd-d60001599d52",
   "metadata": {},
   "source": [
    "![image.png](attachment:0372f311-2647-400f-aee5-263d83dcbacc.png)"
   ]
  },
  {
   "cell_type": "code",
   "execution_count": 2,
   "id": "0bf3670f-9a0d-482b-8f44-c876a2491a55",
   "metadata": {},
   "outputs": [
    {
     "name": "stdin",
     "output_type": "stream",
     "text": [
      "Enter the cost of bike: 80000\n"
     ]
    },
    {
     "name": "stdout",
     "output_type": "stream",
     "text": [
      "Road tax to be paid is: 8000.0\n"
     ]
    }
   ],
   "source": [
    "cost_of_bike=int(input(\"Enter the cost of bike:\"))\n",
    "if(cost_of_bike>1000000):\n",
    "    print(\"Road tax to be paid is:\",cost_of_bike*0.15)\n",
    "elif(cost_of_bike>50000 and cost_of_bike<=1000000):\n",
    "    print(\"Road tax to be paid is:\",cost_of_bike*0.10)\n",
    "elif(cost_of_bike<=50000): \n",
    "    print(\"Road tax to be paid is:\",cost_of_bike*0.05)"
   ]
  },
  {
   "cell_type": "markdown",
   "id": "c7853ddd-e7a9-4b6d-9bda-ceba21c15ed2",
   "metadata": {},
   "source": [
    "## Q3 Accept any city from the user and display the monuments of that city."
   ]
  },
  {
   "attachments": {
    "a1681a47-f703-400c-9624-7db9c7677272.png": {
     "image/png": "[encoded data removed]"
    }
   },
   "cell_type": "markdown",
   "id": "c035a12e-b4a5-44fd-bd3e-05160b1ec781",
   "metadata": {},
   "source": [
    "![image.png](attachment:a1681a47-f703-400c-9624-7db9c7677272.png)"
   ]
  },
  {
   "cell_type": "code",
   "execution_count": 3,
   "id": "49453a2c-7811-4700-a560-10c52a687a71",
   "metadata": {},
   "outputs": [
    {
     "name": "stdin",
     "output_type": "stream",
     "text": [
      "Enter the city: Red Fort\n"
     ]
    },
    {
     "name": "stdout",
     "output_type": "stream",
     "text": [
      "Monument details are not available for the Red Fort you entered\n"
     ]
    }
   ],
   "source": [
    "city=input(\"Enter the city:\")\n",
    "if(city=='Delhi' or city=='delhi'):\n",
    "    print(f\"Monument of the {city} is Red Fort\")\n",
    "elif(city=='Agra' or city=='agra'):\n",
    "    print(f\"Monument of the {city} is Taj Mahal\")\n",
    "elif(city=='Jaipur' or city=='jaipur'):\n",
    "    print(f\"Monument of the {city} is Jal Mahal\")  \n",
    "else:\n",
    "    print(f\"Monument details are not available for the {city} you entered\")"
   ]
  },
  {
   "cell_type": "markdown",
   "id": "98337a92-828d-4dbf-a77b-1cff25c083b5",
   "metadata": {},
   "source": [
    "## Q4 Check how many times a given number is divided by 3 before it is less than or equal to 10"
   ]
  },
  {
   "cell_type": "markdown",
   "id": "373752d8-f39a-4857-983f-442f65d7eb23",
   "metadata": {},
   "source": [
    "#### To check how many times a given number is divided by 3 before it is less than or equal to 10, we can use a loop to repeatedly divide the number by 3 until it is less than or equal to 10. We can then count the number of times the division operation is performed."
   ]
  },
  {
   "cell_type": "code",
   "execution_count": 1,
   "id": "1ac4daa6-e4c3-4f24-9fc1-9c26b4a0cac8",
   "metadata": {},
   "outputs": [
    {
     "name": "stdout",
     "output_type": "stream",
     "text": [
      "3\n"
     ]
    }
   ],
   "source": [
    "def divide_by_3(num):\n",
    "    count = 0\n",
    "    while num > 10:\n",
    "        num /= 3\n",
    "        count += 1\n",
    "    return count\n",
    "\n",
    "# Example usage\n",
    "result = divide_by_3(243)\n",
    "print(result) # Output: 4\n"
   ]
  },
  {
   "cell_type": "markdown",
   "id": "ff43de5b-64d2-47d7-8d4b-fb6d9c8f17b8",
   "metadata": {},
   "source": [
    "## Q5 Why and when to use While loop in python give a detailed description with example"
   ]
  },
  {
   "cell_type": "markdown",
   "id": "c06da875-55e6-4245-bfa2-ecb6542696b8",
   "metadata": {},
   "source": [
    "#### A while loop in Python is used to execute a block of code repeatedly as long as a certain condition is true. The loop will continue to run as long as the condition remains true, and will stop as soon as the condition becomes false.\n",
    "\n",
    "#### Here's an example of using a while loop in Python:"
   ]
  },
  {
   "cell_type": "code",
   "execution_count": 2,
   "id": "fb045723-90a1-48e5-a43f-1ef35576da08",
   "metadata": {},
   "outputs": [
    {
     "name": "stdout",
     "output_type": "stream",
     "text": [
      "Count is: 0\n",
      "Count is: 1\n",
      "Count is: 2\n",
      "Count is: 3\n",
      "Count is: 4\n"
     ]
    }
   ],
   "source": [
    "count = 0\n",
    "while count < 5:\n",
    "    print(\"Count is:\", count)\n",
    "    count += 1\n"
   ]
  },
  {
   "cell_type": "markdown",
   "id": "0dfd98f1-ddc5-49cd-9d90-e83ce92f7d4d",
   "metadata": {},
   "source": [
    "## Q6 Use nested while loop to print 3 different patterns"
   ]
  },
  {
   "cell_type": "markdown",
   "id": "cc4f1715-7213-4749-8b1b-1191aa283b82",
   "metadata": {},
   "source": [
    "#### here are three different patterns that can be printed using nested while loops in Python:\n",
    "\n",
    "#### Pattern 1:"
   ]
  },
  {
   "cell_type": "code",
   "execution_count": null,
   "id": "bc88cd64-42e0-4c04-bbd3-a62ac87f4d90",
   "metadata": {},
   "outputs": [],
   "source": [
    "*\n",
    "**\n",
    "***\n",
    "****\n",
    "*****\n"
   ]
  },
  {
   "cell_type": "code",
   "execution_count": 3,
   "id": "6aee3a35-3331-4d35-b926-5a09c78b7715",
   "metadata": {},
   "outputs": [
    {
     "name": "stdout",
     "output_type": "stream",
     "text": [
      "*\n",
      "**\n",
      "***\n",
      "****\n",
      "*****\n"
     ]
    }
   ],
   "source": [
    "# Using nested while loops to print pattern 1\n",
    "i = 1\n",
    "while i <= 5:\n",
    "    j = 1\n",
    "    while j <= i:\n",
    "        print('*', end='')\n",
    "        j += 1\n",
    "    print()\n",
    "    i += 1\n"
   ]
  },
  {
   "cell_type": "markdown",
   "id": "da9951ce-65a1-45d2-87c8-de102d5747b6",
   "metadata": {},
   "source": [
    "#### Pattern 2:"
   ]
  },
  {
   "cell_type": "code",
   "execution_count": null,
   "id": "20252b49-5ea0-4c82-9e38-b98040cc5557",
   "metadata": {},
   "outputs": [],
   "source": [
    "    *\n",
    "   **\n",
    "  ***\n",
    " ****\n",
    "*****\n"
   ]
  },
  {
   "cell_type": "code",
   "execution_count": 4,
   "id": "59d0f62c-8a0d-4d8d-81fd-fb04bf81f087",
   "metadata": {},
   "outputs": [
    {
     "name": "stdout",
     "output_type": "stream",
     "text": [
      "    *\n",
      "   **\n",
      "  ***\n",
      " ****\n",
      "*****\n"
     ]
    }
   ],
   "source": [
    "# Using nested while loops to print pattern 2\n",
    "i = 1\n",
    "while i <= 5:\n",
    "    j = 1\n",
    "    while j <= 5 - i:\n",
    "        print(' ', end='')\n",
    "        j += 1\n",
    "    k = 1\n",
    "    while k <= i:\n",
    "        print('*', end='')\n",
    "        k += 1\n",
    "    print()\n",
    "    i += 1\n"
   ]
  },
  {
   "cell_type": "markdown",
   "id": "de69a1c3-b691-4efd-b9d7-31ccaed8520c",
   "metadata": {},
   "source": [
    "Pattern 3:"
   ]
  },
  {
   "cell_type": "code",
   "execution_count": null,
   "id": "ec1426f7-0e99-490a-a4bb-b44f5b490597",
   "metadata": {},
   "outputs": [],
   "source": [
    "10101\n",
    "10101\n",
    "10101\n",
    "10101\n",
    "10101\n"
   ]
  },
  {
   "cell_type": "code",
   "execution_count": 5,
   "id": "52d7420b-1daf-4c4b-947e-64bb5a3d64aa",
   "metadata": {},
   "outputs": [
    {
     "name": "stdout",
     "output_type": "stream",
     "text": [
      "10101\n",
      "10101\n",
      "10101\n",
      "10101\n",
      "10101\n"
     ]
    }
   ],
   "source": [
    "# Using nested while loops to print pattern 3\n",
    "i = 1\n",
    "while i <= 5:\n",
    "    j = 1\n",
    "    while j <= 5:\n",
    "        if j % 2 == 0:\n",
    "            print('0', end='')\n",
    "        else:\n",
    "            print('1', end='')\n",
    "        j += 1\n",
    "    print()\n",
    "    i += 1\n"
   ]
  },
  {
   "cell_type": "markdown",
   "id": "2df76a16-45d6-47a0-8472-2b532a0e4ede",
   "metadata": {},
   "source": [
    "## Q7 Reverse a while loop to display numbers from 10 to 1"
   ]
  },
  {
   "cell_type": "code",
   "execution_count": 6,
   "id": "9a235d7e-418c-4391-958b-fce274304c69",
   "metadata": {},
   "outputs": [
    {
     "name": "stdout",
     "output_type": "stream",
     "text": [
      "10\n",
      "9\n",
      "8\n",
      "7\n",
      "6\n",
      "5\n",
      "4\n",
      "3\n",
      "2\n",
      "1\n"
     ]
    }
   ],
   "source": [
    "# Using a while loop to display numbers from 10 to 1 in reverse order\n",
    "i = 10\n",
    "while i >= 1:\n",
    "    print(i)\n",
    "    i -= 1\n"
   ]
  },
  {
   "cell_type": "markdown",
   "id": "935d5cb6-9333-467e-8963-f29721a61a5c",
   "metadata": {},
   "source": [
    "## Q8 Reverse a while loop to display numbers from 10 to 1"
   ]
  },
  {
   "cell_type": "code",
   "execution_count": 7,
   "id": "86c80e27-7de2-495e-9aed-22126931f62f",
   "metadata": {},
   "outputs": [
    {
     "name": "stdout",
     "output_type": "stream",
     "text": [
      "10\n",
      "9\n",
      "8\n",
      "7\n",
      "6\n",
      "5\n",
      "4\n",
      "3\n",
      "2\n",
      "1\n"
     ]
    }
   ],
   "source": [
    "# Using a while loop to display numbers from 10 to 1 in reverse order\n",
    "i = 10\n",
    "while i >= 1:\n",
    "    print(i)\n",
    "    i -= 1\n"
   ]
  },
  {
   "cell_type": "code",
   "execution_count": null,
   "id": "24d0cd5f-3687-4028-b4b1-12eea8bcee33",
   "metadata": {},
   "outputs": [],
   "source": []
  }
 ],
 "metadata": {
  "kernelspec": {
   "display_name": "Python 3 (ipykernel)",
   "language": "python",
   "name": "python3"
  },
  "language_info": {
   "codemirror_mode": {
    "name": "ipython",
    "version": 3
   },
   "file_extension": ".py",
   "mimetype": "text/x-python",
   "name": "python",
   "nbconvert_exporter": "python",
   "pygments_lexer": "ipython3",
   "version": "3.10.8"
  }
 },
 "nbformat": 4,
 "nbformat_minor": 5
}
