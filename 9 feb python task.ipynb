{
 "cells": [
  {
   "cell_type": "markdown",
   "id": "64051d98-c200-410b-8a80-b866bc66466c",
   "metadata": {},
   "source": [
    "## Q1, Create a vehicle class with an init method having instance variables as name_of_vehicle, max_speed and average_of_vehicle."
   ]
  },
  {
   "cell_type": "markdown",
   "id": "cbb79210-e05d-4a1a-b442-63bc3678e05e",
   "metadata": {},
   "source": [
    "#### Here's an example of a Vehicle class with an init method and instance variables:"
   ]
  },
  {
   "cell_type": "code",
   "execution_count": 2,
   "id": "f7cbd8a8-666e-41f4-9c4d-3b50a40ef3cc",
   "metadata": {},
   "outputs": [
    {
     "name": "stdout",
     "output_type": "stream",
     "text": [
      "Toyota Camry\n",
      "120\n",
      "30\n"
     ]
    }
   ],
   "source": [
    "class Vehicle:\n",
    "    def __init__(self, name_of_vehicle, max_speed, average_of_vehicle):\n",
    "        self.name_of_vehicle = name_of_vehicle\n",
    "        self.max_speed = max_speed\n",
    "        self.average_of_vehicle = average_of_vehicle\n",
    "\n",
    "# Create an instance of the Vehicle class\n",
    "car = Vehicle('Toyota Camry', 120, 30)\n",
    "\n",
    "# Access the instance variables of the car instance\n",
    "print(car.name_of_vehicle)        # Output: 'Toyota Camry'\n",
    "print(car.max_speed)              # Output: 120\n",
    "print(car.average_of_vehicle)     # Output: 30"
   ]
  },
  {
   "cell_type": "markdown",
   "id": "ad11bfa9-3d08-48c4-9511-4f46a65b17d9",
   "metadata": {},
   "source": [
    "## Q2. Create a child class car from the vehicle class created in Que 1, which will inherit the vehicle class. Create a method named seating_capacity which takes capacity as an argument and returns the name of the vehicle and its seating capacity."
   ]
  },
  {
   "cell_type": "markdown",
   "id": "7af072e3-da9a-4f80-bbd0-ba88e43c2398",
   "metadata": {},
   "source": [
    "#### Here's an example of a Car class that inherits from the Vehicle class and has a seating_capacity method:"
   ]
  },
  {
   "cell_type": "code",
   "execution_count": 3,
   "id": "a8514910-e035-4cbe-81ef-f58ead92073e",
   "metadata": {},
   "outputs": [
    {
     "name": "stdout",
     "output_type": "stream",
     "text": [
      "Toyota Camry has a seating capacity of 5 passengers.\n",
      "Toyota Camry\n",
      "120\n",
      "30\n"
     ]
    }
   ],
   "source": [
    "class Car(Vehicle):\n",
    "    def __init__(self, name_of_vehicle, max_speed, average_of_vehicle):\n",
    "        super().__init__(name_of_vehicle, max_speed, average_of_vehicle)\n",
    "    \n",
    "    def seating_capacity(self, capacity):\n",
    "        return f\"{self.name_of_vehicle} has a seating capacity of {capacity} passengers.\"\n",
    "## We can create an instance of the Car class and call its seating_capacity method like this:\n",
    "car = Car('Toyota Camry', 120, 30)\n",
    "print(car.seating_capacity(5))     # Output: 'Toyota Camry has a seating capacity of 5 passengers.'\n",
    "## The Car class inherits the instance variables and methods of the Vehicle class, so we can also access them like this:\n",
    "print(car.name_of_vehicle)        # Output: 'Toyota Camry'\n",
    "print(car.max_speed)              # Output: 120\n",
    "print(car.average_of_vehicle)     # Output: 30\n"
   ]
  },
  {
   "cell_type": "markdown",
   "id": "45ccccba-f8f2-46a6-b95e-6646472bdd7b",
   "metadata": {},
   "source": [
    "## Q3. What is multiple inheritance? Write a python code to demonstrate multiple inheritance."
   ]
  },
  {
   "cell_type": "markdown",
   "id": "dba8f7f7-980f-414f-89e1-6d42b9762b2e",
   "metadata": {},
   "source": [
    "#### *Multiple inheritance* is a feature of object-oriented programming where a class can inherit from more than one parent class. This means that a subclass can have access to the attributes and methods of multiple parent classes.\n",
    "#### Here's an example of multiple inheritance in Python:"
   ]
  },
  {
   "cell_type": "code",
   "execution_count": 4,
   "id": "e97e4df7-0b04-4f52-bf3a-e5f9cf97065d",
   "metadata": {},
   "outputs": [
    {
     "name": "stdout",
     "output_type": "stream",
     "text": [
      "This is method A\n",
      "This is method B\n",
      "This is method C\n"
     ]
    }
   ],
   "source": [
    "class A:\n",
    "    def method_A(self):\n",
    "        print(\"This is method A\")\n",
    "        \n",
    "class B:\n",
    "    def method_B(self):\n",
    "        print(\"This is method B\")\n",
    "        \n",
    "class C(A, B):\n",
    "    def method_C(self):\n",
    "        print(\"This is method C\")\n",
    "## In this example, we have three classes: A, B, and C. Class A and class B are parent classes of class C. Class C inherits from both classes A and B. We can create an instance of class C and access its methods like this\n",
    "c = C()\n",
    "c.method_A()    # Output: 'This is method A'\n",
    "c.method_B()    # Output: 'This is method B'\n",
    "c.method_C()    # Output: 'This is method C'\n",
    "## "
   ]
  },
  {
   "cell_type": "markdown",
   "id": "8c0ede30-48f8-4d97-a7af-dc2460611679",
   "metadata": {},
   "source": [
    "## Q4. What are getter and setter in python? Create a class and create a getter and a setter method in this class."
   ]
  },
  {
   "cell_type": "markdown",
   "id": "0a36324c-d091-4336-86c2-fbe3ca53cdca",
   "metadata": {},
   "source": [
    "#### Getter and setter are methods that are used to access and modify the attributes of an object respectively in object-oriented programming.\n",
    "#### Getter method is used to get the value of a private instance variable and setter method is used to set the value of a private instance variable.\n",
    "##### Here's an example of a class with getter and setter methods:"
   ]
  },
  {
   "cell_type": "code",
   "execution_count": 5,
   "id": "b58aedd7-9a6e-4645-83e8-67f4f67d116d",
   "metadata": {},
   "outputs": [
    {
     "name": "stdout",
     "output_type": "stream",
     "text": [
      "Chhaya\n",
      "21\n",
      "Nikhil\n",
      "25\n"
     ]
    }
   ],
   "source": [
    "class Person:\n",
    "    def __init__(self, name, age):\n",
    "        self.__name = name\n",
    "        self.__age = age\n",
    "        \n",
    "    def get_name(self):\n",
    "        return self.__name\n",
    "    \n",
    "    def set_name(self, name):\n",
    "        self.__name = name\n",
    "        \n",
    "    def get_age(self):\n",
    "        return self.__age\n",
    "    \n",
    "    def set_age(self, age):\n",
    "        self.__age = age\n",
    "## We can create an instance of the Person class and access its getter and setter methods like this:\n",
    "person = Person('Chhaya', 21)\n",
    "print(person.get_name())    # Output: 'Chhaya'\n",
    "print(person.get_age())     # Output: 21\n",
    "\n",
    "person.set_name('Nikhil')\n",
    "person.set_age(25)\n",
    "\n",
    "print(person.get_name())    # Output: 'Nikhil'\n",
    "print(person.get_age())     # Output: 25\n"
   ]
  },
  {
   "cell_type": "markdown",
   "id": "ee414672-2e33-4bd1-994c-6d21bbf0bbbb",
   "metadata": {},
   "source": [
    "#### As you can see, we can use the getter and setter methods to access and modify the private instance variables of the Person object."
   ]
  },
  {
   "cell_type": "markdown",
   "id": "f2467e34-13eb-4ab0-b1cb-19108b9866ee",
   "metadata": {},
   "source": [
    "## Q5.What is method overriding in python? Write a python code to demonstrate method overriding."
   ]
  },
  {
   "cell_type": "markdown",
   "id": "438d85e2-7d63-4f8a-a5d9-6dadf1a32337",
   "metadata": {},
   "source": [
    "#### Method overriding is a feature of object-oriented programming where a subclass provides its own implementation of a method that is already defined in its parent class.\n",
    "##### Here's an example of method overriding in Python:"
   ]
  },
  {
   "cell_type": "code",
   "execution_count": 6,
   "id": "b14a4010-dc53-4a29-a2a8-c100c4753e9b",
   "metadata": {},
   "outputs": [
    {
     "name": "stdout",
     "output_type": "stream",
     "text": [
      "Meow\n",
      "Woof\n"
     ]
    }
   ],
   "source": [
    "class Animal:\n",
    "    def make_sound(self):\n",
    "        print(\"This animal makes a sound.\")\n",
    "        \n",
    "class Cat(Animal):\n",
    "    def make_sound(self):\n",
    "        print(\"Meow\")\n",
    "        \n",
    "class Dog(Animal):\n",
    "    def make_sound(self):\n",
    "        print(\"Woof\")\n",
    "## We can create instances of the Cat and Dog classes and call their make_sound() methods like this:\n",
    "cat = Cat()\n",
    "cat.make_sound()    # Output: 'Meow'\n",
    "\n",
    "dog = Dog()\n",
    "dog.make_sound()    # Output: 'Woof'\n"
   ]
  },
  {
   "cell_type": "markdown",
   "id": "56c9bb9c-5fde-4b18-bb30-60d268fab963",
   "metadata": {},
   "source": [
    "#### As you can see, the make_sound() method of the Cat and Dog classes override the implementation of the same method in the parent Animal class."
   ]
  },
  {
   "cell_type": "code",
   "execution_count": null,
   "id": "da23f8de-0700-46b0-b2af-069dd902a552",
   "metadata": {},
   "outputs": [],
   "source": []
  }
 ],
 "metadata": {
  "kernelspec": {
   "display_name": "Python 3 (ipykernel)",
   "language": "python",
   "name": "python3"
  },
  "language_info": {
   "codemirror_mode": {
    "name": "ipython",
    "version": 3
   },
   "file_extension": ".py",
   "mimetype": "text/x-python",
   "name": "python",
   "nbconvert_exporter": "python",
   "pygments_lexer": "ipython3",
   "version": "3.10.8"
  }
 },
 "nbformat": 4,
 "nbformat_minor": 5
}
