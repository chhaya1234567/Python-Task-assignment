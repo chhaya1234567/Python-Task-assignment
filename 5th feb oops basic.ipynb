{
 "cells": [
  {
   "cell_type": "markdown",
   "id": "0f8f6444-ee5c-45b5-a4c1-78c017e58c97",
   "metadata": {},
   "source": [
    "## Q1. Explain Class and Object with respect to Object-Oriented Programming. Give a suitable example."
   ]
  },
  {
   "cell_type": "markdown",
   "id": "2e7b28a5-9d41-4627-bcf2-979c67e70ffa",
   "metadata": {},
   "source": [
    "### Object-oriented programming (OOP) is a programming paradigm that is based on the concept of objects. Objects are instances of a class, which is a blueprint or template for creating objects. In OOP, we create classes to represent real-world entities, and objects to represent instances of those entities.\n",
    "### A class is a user-defined data type that defines a set of attributes and methods. Attributes are data members that represent the state of the object, and methods are functions that represent the behavior of the object. A class provides a blueprint for creating objects, but it does not actually create any objects itself.\n",
    "### An object, on the other hand, is an instance of a class. It is created by calling the class constructor, which creates a new object with the specified attributes and methods. Objects have their own unique state, which is defined by their attributes, and their own behavior, which is defined by their methods.\n",
    "### Here's an example to illustrate the concept of class and object in Python:"
   ]
  },
  {
   "cell_type": "code",
   "execution_count": 1,
   "id": "2fe26b6a-2165-4735-99c9-56ae8a9bfac3",
   "metadata": {},
   "outputs": [
    {
     "name": "stdout",
     "output_type": "stream",
     "text": [
      "Make of the car: Toyota\n",
      "Model of the car: Camry\n",
      "Year of the car: 2021\n",
      "The engine of the car has started.\n"
     ]
    }
   ],
   "source": [
    "# Define a class named Car\n",
    "class Car:\n",
    "    def __init__(self, make, model, year):\n",
    "        self.make = make\n",
    "        self.model = model\n",
    "        self.year = year\n",
    "        \n",
    "    def start_engine(self):\n",
    "        print(\"The engine of the car has started.\")\n",
    "\n",
    "# Create an object of the Car class\n",
    "my_car = Car(\"Toyota\", \"Camry\", 2021)\n",
    "\n",
    "# Access the attributes of the object\n",
    "print(\"Make of the car:\", my_car.make)\n",
    "print(\"Model of the car:\", my_car.model)\n",
    "print(\"Year of the car:\", my_car.year)\n",
    "\n",
    "# Call the methods of the object\n",
    "my_car.start_engine()"
   ]
  },
  {
   "cell_type": "markdown",
   "id": "4305f659-3e7e-43b6-ac65-44300707896f",
   "metadata": {},
   "source": [
    "## Q2. Name the four pillars of OOPs."
   ]
  },
  {
   "cell_type": "markdown",
   "id": "06d01bc6-3903-4f13-a39f-50df2d24a60d",
   "metadata": {},
   "source": [
    "### The four pillars of Object-Oriented Programming (OOP) are:\n",
    "### 1.Encapsulation\n",
    "### 2.Abstraction\n",
    "### 3.Inheritance\n",
    "### 4.Polymorphism\n",
    "### These four pillars of OOP provide a powerful and flexible way to model complex systems and solve real-world problems."
   ]
  },
  {
   "cell_type": "markdown",
   "id": "20e45e2c-8df3-4687-89ff-5833bf73fc45",
   "metadata": {},
   "source": [
    "## Q3. Explain why the __init__() function is used. Give a suitable example."
   ]
  },
  {
   "cell_type": "markdown",
   "id": "2c0b0928-3f34-4102-bd02-f0cf89abf0c8",
   "metadata": {},
   "source": [
    "### The __init__() function is a special method in Python that is used to initialize the attributes of an object. It is called automatically when an object is created, and it allows the programmer to set the initial values of the object's attributes. The __init__() method is commonly used in object-oriented programming to ensure that objects are initialized properly and consistently.\n",
    "### When we create a new object of a class, the __init__() method is called with the self parameter, which represents the object being created. The self parameter is used to access the object's attributes and methods, and to set their initial values.\n",
    "#### Here's an example to illustrate the use of the __init__() method:"
   ]
  },
  {
   "cell_type": "code",
   "execution_count": 2,
   "id": "ab89de5f-19dc-4d61-bf89-0ed7dde897e7",
   "metadata": {},
   "outputs": [
    {
     "name": "stdout",
     "output_type": "stream",
     "text": [
      "Hi, my name is chhaya and I am 21 years old.\n",
      "Hi, my name is neha and I am 25 years old.\n"
     ]
    }
   ],
   "source": [
    "\n",
    "class Person:\n",
    "    def __init__(self, name, age):\n",
    "        self.name = name\n",
    "        self.age = age\n",
    "    \n",
    "    def introduce(self):\n",
    "        print(f\"Hi, my name is {self.name} and I am {self.age} years old.\")\n",
    "\n",
    "person1 = Person(\"chhaya\", 21)\n",
    "person2 = Person(\"neha\", 25)\n",
    "\n",
    "person1.introduce()  # Output: Hi, my name is chhaya and I am 21 years old.\n",
    "person2.introduce()  # Output: Hi, my name is neha and I am 25 years old."
   ]
  },
  {
   "cell_type": "markdown",
   "id": "8b7d47c7-7024-4537-8a4f-deee338a7ab6",
   "metadata": {},
   "source": [
    "## Q4. Why self is used in OOPs?"
   ]
  },
  {
   "cell_type": "markdown",
   "id": "f86b1b96-50f6-4fab-a4ad-f5200084b5bd",
   "metadata": {},
   "source": [
    "### In Object-Oriented Programming (OOP), self is a reference to the current object that is being manipulated. It is a convention in Python to use the name self for the first parameter of a class method. When we create an instance of a class, we are creating a new object that has its own set of attributes and methods. The self parameter is used to refer to the instance itself, so that we can access its attributes and methods from within the class."
   ]
  },
  {
   "cell_type": "markdown",
   "id": "9bafd488-ab5e-4af0-a689-2bf14c3c04cd",
   "metadata": {},
   "source": [
    "## Q5. What is inheritance? Give an example for each type of inheritance."
   ]
  },
  {
   "cell_type": "markdown",
   "id": "e0fa3262-bbb8-49f6-9338-47d38a5eadf9",
   "metadata": {},
   "source": [
    "### Inheritance is a fundamental concept in Object-Oriented Programming (OOP) that allows us to define a new class based on an existing class. Inheritance allows us to reuse the code of an existing class, and to add new functionality to the derived class without modifying the original class.\n",
    "### There are four types of inheritance in Python:\n",
    "### 1.Single inheritance\n",
    "### 2.Multiple inheritance\n",
    "### 3.Multi-level inheritance\n",
    "### 4.Hierarchical inheritance\n",
    "#### Here's an example for each type of inheritance:"
   ]
  },
  {
   "cell_type": "code",
   "execution_count": 3,
   "id": "4afeb9f5-c227-4b0c-a71a-292a73b671fe",
   "metadata": {},
   "outputs": [
    {
     "name": "stdout",
     "output_type": "stream",
     "text": [
      "Buddy\n",
      "Eating...\n",
      "Barking...\n"
     ]
    }
   ],
   "source": [
    "# Single inheritance: In single inheritance, a new class is derived from a single base class.\n",
    "class Animal:\n",
    "    def __init__(self, name):\n",
    "        self.name = name\n",
    "\n",
    "    def eat(self):\n",
    "        print(\"Eating...\")\n",
    "\n",
    "class Dog(Animal):\n",
    "    def bark(self):\n",
    "        print(\"Barking...\")\n",
    "\n",
    "my_dog = Dog(\"Buddy\")\n",
    "print(my_dog.name)  # Output: Buddy\n",
    "my_dog.eat()  # Output: Eating...\n",
    "my_dog.bark()  # Output: Barking..."
   ]
  },
  {
   "cell_type": "code",
   "execution_count": 4,
   "id": "00b3f1e1-da70-4a34-9e29-1508a894a763",
   "metadata": {},
   "outputs": [
    {
     "name": "stdout",
     "output_type": "stream",
     "text": [
      "Prius\n",
      "Driving...\n",
      "Charging...\n"
     ]
    }
   ],
   "source": [
    "# Multiple inheritance: In multiple inheritance, a new class is derived from multiple base classes.\n",
    "class Vehicle:\n",
    "    def __init__(self, name):\n",
    "        self.name = name\n",
    "\n",
    "    def drive(self):\n",
    "        print(\"Driving...\")\n",
    "\n",
    "class Electric:\n",
    "    def charge(self):\n",
    "        print(\"Charging...\")\n",
    "\n",
    "class HybridVehicle(Vehicle, Electric):\n",
    "    pass\n",
    "\n",
    "my_hybrid = HybridVehicle(\"Prius\")\n",
    "print(my_hybrid.name)  # Output: Prius\n",
    "my_hybrid.drive()  # Output: Driving...\n",
    "my_hybrid.charge()  # Output: Charging..."
   ]
  },
  {
   "cell_type": "code",
   "execution_count": 5,
   "id": "f4b08e3d-6882-4a55-802a-eb97843b40a6",
   "metadata": {},
   "outputs": [
    {
     "name": "stdout",
     "output_type": "stream",
     "text": [
      "Buddy\n",
      "Eating...\n",
      "Feeding young...\n",
      "Barking...\n"
     ]
    }
   ],
   "source": [
    "# Multi-level inheritance: In multi-level inheritance, a new class is derived from a derived class.\n",
    "class Animal:\n",
    "    def __init__(self, name):\n",
    "        self.name = name\n",
    "\n",
    "    def eat(self):\n",
    "        print(\"Eating...\")\n",
    "\n",
    "class Mammal(Animal):\n",
    "    def feed_young(self):\n",
    "        print(\"Feeding young...\")\n",
    "\n",
    "class Dog(Mammal):\n",
    "    def bark(self):\n",
    "        print(\"Barking...\")\n",
    "\n",
    "my_dog = Dog(\"Buddy\")\n",
    "print(my_dog.name)  # Output: Buddy\n",
    "my_dog.eat()  # Output: Eating...\n",
    "my_dog.feed_young()  # Output: Feeding young...\n",
    "my_dog.bark()  # Output: Barking..."
   ]
  },
  {
   "cell_type": "code",
   "execution_count": null,
   "id": "672906c4-3777-46da-9693-d587a6eb22b9",
   "metadata": {},
   "outputs": [],
   "source": [
    "# In hierarchical inheritance, a new class is derived from a single base class, but there are multiple derived classes that inherit from the same base class.\n"
   ]
  }
 ],
 "metadata": {
  "kernelspec": {
   "display_name": "Python 3 (ipykernel)",
   "language": "python",
   "name": "python3"
  },
  "language_info": {
   "codemirror_mode": {
    "name": "ipython",
    "version": 3
   },
   "file_extension": ".py",
   "mimetype": "text/x-python",
   "name": "python",
   "nbconvert_exporter": "python",
   "pygments_lexer": "ipython3",
   "version": "3.10.8"
  }
 },
 "nbformat": 4,
 "nbformat_minor": 5
}
