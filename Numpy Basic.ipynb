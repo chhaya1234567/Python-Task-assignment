{
 "cells": [
  {
   "cell_type": "markdown",
   "id": "ddd4ba64-7c2f-4d4a-b688-50a5affb0268",
   "metadata": {},
   "source": [
    "#### Consider the below code to answer further questions: import numpy as np list_ = [ ‘1’ , ’2’ , ‘3’ , ‘4’ , ‘5’ ] array_list = np.array(object = list_)\n",
    "\n",
    "## Q1. Is there any difference in the data type of variables list_ and array_list? If there is then write a code to print the data types of both the variables."
   ]
  },
  {
   "cell_type": "markdown",
   "id": "cf9a9dee-4104-40a0-9aaf-8041264311b4",
   "metadata": {},
   "source": [
    "#### Yes, there is a difference in the data type of variables list_ and array_list. The list_ variable is a Python list object, whereas the array_list variable is a Numpy array object."
   ]
  },
  {
   "cell_type": "code",
   "execution_count": 1,
   "id": "ba7e6544-98c0-4c3c-8134-782493d41113",
   "metadata": {},
   "outputs": [
    {
     "name": "stdout",
     "output_type": "stream",
     "text": [
      "<class 'list'>\n",
      "<class 'numpy.ndarray'>\n"
     ]
    }
   ],
   "source": [
    "import numpy as np\n",
    "\n",
    "list_ = ['1', '2', '3', '4', '5']\n",
    "array_list = np.array(object=list_)\n",
    "\n",
    "print(type(list_))\n",
    "print(type(array_list))"
   ]
  },
  {
   "cell_type": "markdown",
   "id": "7e482e6e-1bfa-4fc6-8d57-cadadd45a50e",
   "metadata": {},
   "source": [
    "## Q2. Write a code to print the data type of each and every element of both the variables list_ and arra_list."
   ]
  },
  {
   "cell_type": "code",
   "execution_count": 2,
   "id": "1e3d6cd6-bafd-4c46-bd32-a394b5ef0eef",
   "metadata": {},
   "outputs": [
    {
     "name": "stdout",
     "output_type": "stream",
     "text": [
      "<class 'str'>\n",
      "<class 'str'>\n",
      "<class 'str'>\n",
      "<class 'str'>\n",
      "<class 'str'>\n",
      "<U1\n",
      "<U1\n",
      "<U1\n",
      "<U1\n",
      "<U1\n"
     ]
    }
   ],
   "source": [
    "list_ = ['1', '2', '3', '4', '5']\n",
    "\n",
    "for i in list_:\n",
    "    print(type(i))\n",
    "\n",
    "array_list = np.array(object=list_)\n",
    "for i in array_list:\n",
    "    print(i.dtype)"
   ]
  },
  {
   "cell_type": "markdown",
   "id": "0d3c78f4-a6b0-44b6-a9fe-dd52439aed56",
   "metadata": {},
   "source": [
    "## Q3. Considering the following changes in the variable, array_list: array_list = np.array(object = list_, dtype = int) Will there be any difference in the data type of the elements present in both the variables, list_ and arra_list? If so then print the data types of each and every element present in both the variables, list_ and arra_list."
   ]
  },
  {
   "cell_type": "markdown",
   "id": "2637c0dc-8be7-4cd3-9be2-c5929ad5faed",
   "metadata": {},
   "source": [
    "#### Yes, there will be a difference in the data type of the elements present in list_ and array_list when array_list is created with the dtype parameter set to int. The list_ variable contains strings, whereas array_list will be an array of integers."
   ]
  },
  {
   "cell_type": "code",
   "execution_count": 3,
   "id": "0055ee3b-98df-48ce-bad1-a9286e601e5f",
   "metadata": {},
   "outputs": [
    {
     "name": "stdout",
     "output_type": "stream",
     "text": [
      "<class 'str'>\n",
      "<class 'str'>\n",
      "<class 'str'>\n",
      "<class 'str'>\n",
      "<class 'str'>\n",
      "<class 'numpy.int64'>\n",
      "<class 'numpy.int64'>\n",
      "<class 'numpy.int64'>\n",
      "<class 'numpy.int64'>\n",
      "<class 'numpy.int64'>\n"
     ]
    }
   ],
   "source": [
    "list_ = ['1', '2', '3', '4', '5']\n",
    "\n",
    "for i in list_:\n",
    "    print(type(i))\n",
    "    \n",
    "array_list = np.array(object=list_, dtype=int)\n",
    "\n",
    "for i in array_list:\n",
    "    print(type(i))    "
   ]
  },
  {
   "cell_type": "markdown",
   "id": "9dd8e884-1bb9-44f8-b42a-f41816509bbc",
   "metadata": {},
   "source": [
    "#### Consider the below code to answer further questions:\n",
    "\n",
    "#### import numpy as np\n",
    "\n",
    "#### num_list = [ [ 1 , 2 , 3 ] , [ 4 , 5 , 6 ] ]\n",
    "\n",
    "#### num_array = np.array(object = num_list)"
   ]
  },
  {
   "cell_type": "markdown",
   "id": "807f55b3-17a0-48a9-b871-219b1fa94540",
   "metadata": {},
   "source": [
    "## Q4. Write a code to find the following characteristics of variable, num_array: (i) shape (ii) size"
   ]
  },
  {
   "cell_type": "code",
   "execution_count": 6,
   "id": "8270f40b-5480-45b3-8682-2173329e1043",
   "metadata": {},
   "outputs": [
    {
     "name": "stdout",
     "output_type": "stream",
     "text": [
      "(2, 3)\n",
      "6\n"
     ]
    }
   ],
   "source": [
    "import numpy as np\n",
    "\n",
    "num_list = [ [ 1 , 2 , 3 ] , [ 4 , 5 , 6 ] ]\n",
    "num_array = np.array(object = num_list)\n",
    "print(num_array.shape)\n",
    "print(num_array.size)"
   ]
  },
  {
   "cell_type": "markdown",
   "id": "1a426a7b-64da-403d-9f9a-84c67f457072",
   "metadata": {},
   "source": [
    "## Q5. Write a code to create numpy array of 3*3 matrix containing zeros only, using a numpy array creation function. [Hint: The size of the array will be 9 and the shape will be (3,3).]"
   ]
  },
  {
   "cell_type": "code",
   "execution_count": 7,
   "id": "d078fc4d-8936-44cf-8ecb-fb184151a759",
   "metadata": {},
   "outputs": [
    {
     "name": "stdout",
     "output_type": "stream",
     "text": [
      "[[0. 0. 0.]\n",
      " [0. 0. 0.]\n",
      " [0. 0. 0.]]\n",
      "9\n",
      "(3, 3)\n"
     ]
    }
   ],
   "source": [
    "import numpy as np\n",
    "\n",
    "arr = np.zeros((3, 3))\n",
    "\n",
    "print(arr)\n",
    "print(arr.size)\n",
    "print(arr.shape)"
   ]
  },
  {
   "cell_type": "markdown",
   "id": "dcced276-fefa-44fb-a5a2-bccf5437f7bd",
   "metadata": {},
   "source": [
    "## Q6. Create an identity matrix of shape (5,5) using numpy functions?\n",
    "\n",
    "#### [Hint: An identity matrix is a matrix containing 1 diagonally and other elements will be 0.]"
   ]
  },
  {
   "cell_type": "code",
   "execution_count": 8,
   "id": "32ad35cc-6d7f-4e85-8326-ff82266ee4fc",
   "metadata": {},
   "outputs": [
    {
     "name": "stdout",
     "output_type": "stream",
     "text": [
      "[[1. 0. 0. 0. 0.]\n",
      " [0. 1. 0. 0. 0.]\n",
      " [0. 0. 1. 0. 0.]\n",
      " [0. 0. 0. 1. 0.]\n",
      " [0. 0. 0. 0. 1.]]\n"
     ]
    }
   ],
   "source": [
    "import numpy as np\n",
    "\n",
    "arr1 = np.identity(5)\n",
    "\n",
    "print(arr1)"
   ]
  },
  {
   "cell_type": "code",
   "execution_count": null,
   "id": "614ee949-4a0e-4ee3-ac73-6ba9759713c8",
   "metadata": {},
   "outputs": [],
   "source": []
  }
 ],
 "metadata": {
  "kernelspec": {
   "display_name": "Python 3 (ipykernel)",
   "language": "python",
   "name": "python3"
  },
  "language_info": {
   "codemirror_mode": {
    "name": "ipython",
    "version": 3
   },
   "file_extension": ".py",
   "mimetype": "text/x-python",
   "name": "python",
   "nbconvert_exporter": "python",
   "pygments_lexer": "ipython3",
   "version": "3.10.8"
  }
 },
 "nbformat": 4,
 "nbformat_minor": 5
}
