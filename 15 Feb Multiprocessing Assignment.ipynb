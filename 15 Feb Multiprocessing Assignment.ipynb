{
 "cells": [
  {
   "cell_type": "markdown",
   "id": "8ad8eabd-720c-49b6-b422-073c1003d776",
   "metadata": {},
   "source": [
    "## Q1. What is multiprocessing in python? Why is it useful?"
   ]
  },
  {
   "cell_type": "markdown",
   "id": "c2a29ab8-b016-41da-8b6a-7bf3dc28dd28",
   "metadata": {},
   "source": [
    "#### In Python, a process is an instance of a program that has its own memory space and runs independently of other processes. By using the multiprocessing module, you can create new processes in your Python program and communicate with them to share data and coordinate their execution.\n",
    "#### Multiprocessing is useful when you have a computationally intensive task that can be divided into smaller subtasks that can be run independently. For example, if you need to process a large amount of data, you can split the data into smaller chunks and run each chunk in a separate process. This can significantly reduce the time it takes to process the data, as each process can run on a different core of your CPU.\n",
    "#### Additionally, multiprocessing can help you write more reliable code by isolating different parts of your program into separate processes. If one process crashes or encounters an error, it will not affect the other processes, allowing your program to continue running without interruption.\n",
    "#### Overall, multiprocessing is a powerful tool for improving the performance and reliability of your Python programs."
   ]
  },
  {
   "cell_type": "markdown",
   "id": "e0f7ef4b-7bbb-4be0-981d-c257b25afd5d",
   "metadata": {},
   "source": [
    "## Q2. What are the differences between multiprocessing and multithreading?"
   ]
  },
  {
   "cell_type": "markdown",
   "id": "4cd41297-7b25-407f-b993-962c4b45caa0",
   "metadata": {},
   "source": [
    "#### Multiprocessing and multithreading are two ways to achieve concurrent execution of code in a program, but they differ in several key ways:\n",
    "\n",
    "#### *Memory Space* : The main difference between multiprocessing and multithreading is that multiprocessing involves separate memory spaces for each process, while multithreading shares the same memory space across all threads in a program. This means that communication and data sharing between processes requires more effort in multiprocessing as compared to multithreading.\n",
    "\n",
    "#### *CPU Utilization* : Multiprocessing uses multiple CPUs to execute code in parallel, while multithreading utilizes a single CPU and shares it between multiple threads. Thus, multiprocessing can achieve higher levels of CPU utilization, but at the cost of higher memory overhead.\n",
    "\n",
    "#### *Parallelism* : Multiprocessing achieves true parallelism by running processes simultaneously on different CPUs, while multithreading can only achieve pseudo-parallelism by rapidly switching between threads on a single CPU.\n",
    "#### *Scalability*: Multiprocessing is better suited for programs that require high levels of concurrency and scale well across multiple CPUs, while multithreading is better suited for programs that are primarily I/O bound or require frequent synchronization between threads.\n",
    "\n",
    "#### *Complexity*: Multiprocessing is generally more complex to implement than multithreading, due to the added complexity of inter-process communication and coordination.\n",
    "\n",
    "#### Overall, the choice between multiprocessing and multithreading depends on the specific requirements of your program. If you have a CPU-bound task that can be easily parallelized across multiple CPUs, then multiprocessing may be the best option. However, if your program is primarily I/O bound or requires frequent synchronization between threads, then multithreading may be a better choice."
   ]
  },
  {
   "cell_type": "markdown",
   "id": "4278e66d-2995-4e39-b20f-a7b37d1e6cfc",
   "metadata": {},
   "source": [
    "## Q3. Write a python code to create a process using the multiprocessing module."
   ]
  },
  {
   "cell_type": "code",
   "execution_count": 1,
   "id": "60f30d9c-a03c-4e0a-b239-fe77b70fd119",
   "metadata": {},
   "outputs": [
    {
     "name": "stdout",
     "output_type": "stream",
     "text": [
      "Worker process started\n",
      "Worker process finished\n"
     ]
    }
   ],
   "source": [
    "import multiprocessing\n",
    "\n",
    "def worker():\n",
    "    \"\"\"Worker function to be run in the new process.\"\"\"\n",
    "    print(\"Worker process started\")\n",
    "\n",
    "if __name__ == '__main__':\n",
    "    # Create a new process\n",
    "    p = multiprocessing.Process(target=worker)\n",
    "\n",
    "    # Start the process\n",
    "    p.start()\n",
    "\n",
    "    # Wait for the process to finish\n",
    "    p.join()\n",
    "\n",
    "    print(\"Worker process finished\")\n"
   ]
  },
  {
   "cell_type": "markdown",
   "id": "ef448099-347b-4b0a-aa5a-e561aa074e69",
   "metadata": {},
   "source": [
    "## Q4. What is a multiprocessing pool in python? Why is it used?"
   ]
  },
  {
   "cell_type": "markdown",
   "id": "9440354d-59fc-4ceb-ad93-418107c3dda2",
   "metadata": {},
   "source": [
    "#### A multiprocessing pool in Python is a convenient way to distribute work across multiple processes. It allows you to create a pool of worker processes that can execute a function in parallel, with each process taking a chunk of the work.\n",
    "\n",
    "#### The multiprocessing module provides a Pool class that you can use to create a pool of worker processes. You can specify the number of processes to create, and then use the map() method to distribute the work to the pool. The map() method takes a function and an iterable as input, and applies the function to each item in the iterable in parallel, using the pool of worker processes.\n",
    "\n",
    "##### Here's an example of how to use a Pool:"
   ]
  },
  {
   "cell_type": "code",
   "execution_count": 2,
   "id": "cb8177d6-bfbf-4df1-ac2b-7f51b84c5ce8",
   "metadata": {},
   "outputs": [
    {
     "name": "stdout",
     "output_type": "stream",
     "text": [
      "[1, 4, 9, 16, 25]\n"
     ]
    }
   ],
   "source": [
    "import multiprocessing\n",
    "\n",
    "def worker(x):\n",
    "    \"\"\"Worker function to be run in the pool.\"\"\"\n",
    "    return x * x\n",
    "\n",
    "if __name__ == '__main__':\n",
    "    # Create a pool of worker processes\n",
    "    with multiprocessing.Pool(processes=4) as pool:\n",
    "        # Map the worker function to the input values\n",
    "        result = pool.map(worker, [1, 2, 3, 4, 5])\n",
    "\n",
    "    print(result)\n"
   ]
  },
  {
   "cell_type": "markdown",
   "id": "0f306813-1287-483f-b226-f490bf89b385",
   "metadata": {},
   "source": [
    "## Q5. How can we create a pool of worker processes in python using the multiprocessing module?"
   ]
  },
  {
   "cell_type": "markdown",
   "id": "797c2f09-ad77-4994-819d-f47a2032697d",
   "metadata": {},
   "source": [
    "#### To create a pool of worker processes in Python using the multiprocessing module, you can use the Pool class. Here's an example of how to create a pool with 4 worker processes:"
   ]
  },
  {
   "cell_type": "code",
   "execution_count": 3,
   "id": "8b05e029-7470-44e9-be08-b93181c86c48",
   "metadata": {},
   "outputs": [
    {
     "name": "stdout",
     "output_type": "stream",
     "text": [
      "[1, 4, 9, 16, 25]\n"
     ]
    }
   ],
   "source": [
    "import multiprocessing\n",
    "\n",
    "def worker(x):\n",
    "    \"\"\"Worker function to be run in the pool.\"\"\"\n",
    "    return x * x\n",
    "\n",
    "if __name__ == '__main__':\n",
    "    # Create a pool of worker processes with 4 processes\n",
    "    with multiprocessing.Pool(processes=4) as pool:\n",
    "        # Map the worker function to the input values\n",
    "        result = pool.map(worker, [1, 2, 3, 4, 5])\n",
    "\n",
    "    print(result)\n"
   ]
  },
  {
   "cell_type": "markdown",
   "id": "37df5c93-b8b7-4c38-a0c5-f888912f9ac1",
   "metadata": {},
   "source": [
    "## Q6. Write a python program to create 4 processes, each process should print a different number using the multiprocessing module in python."
   ]
  },
  {
   "cell_type": "code",
   "execution_count": 4,
   "id": "60e4ca9d-8e72-44de-a0f9-51908ef1fc98",
   "metadata": {},
   "outputs": [
    {
     "name": "stdout",
     "output_type": "stream",
     "text": [
      "Process 1: 1\n",
      "Process 2: 2\n",
      "Process 3: 3\n",
      "Process 4: 4\n",
      "All processes finished\n"
     ]
    }
   ],
   "source": [
    "import multiprocessing\n",
    "\n",
    "def print_number(num):\n",
    "    \"\"\"Function to print a number in a process.\"\"\"\n",
    "    print(f\"Process {num}: {num}\")\n",
    "\n",
    "if __name__ == '__main__':\n",
    "    # Create a list of numbers to pass to each process\n",
    "    numbers = [1, 2, 3, 4]\n",
    "\n",
    "    # Create a list to store the processes\n",
    "    processes = []\n",
    "\n",
    "    # Create a process for each number\n",
    "    for num in numbers:\n",
    "        p = multiprocessing.Process(target=print_number, args=(num,))\n",
    "        processes.append(p)\n",
    "\n",
    "    # Start each process\n",
    "    for p in processes:\n",
    "        p.start()\n",
    "\n",
    "    # Wait for each process to finish\n",
    "    for p in processes:\n",
    "        p.join()\n",
    "\n",
    "    print(\"All processes finished\")\n"
   ]
  },
  {
   "cell_type": "code",
   "execution_count": null,
   "id": "39ac7f74-85fa-4a7c-af17-2eafb69cd4b4",
   "metadata": {},
   "outputs": [],
   "source": []
  }
 ],
 "metadata": {
  "kernelspec": {
   "display_name": "Python 3 (ipykernel)",
   "language": "python",
   "name": "python3"
  },
  "language_info": {
   "codemirror_mode": {
    "name": "ipython",
    "version": 3
   },
   "file_extension": ".py",
   "mimetype": "text/x-python",
   "name": "python",
   "nbconvert_exporter": "python",
   "pygments_lexer": "ipython3",
   "version": "3.10.8"
  }
 },
 "nbformat": 4,
 "nbformat_minor": 5
}
