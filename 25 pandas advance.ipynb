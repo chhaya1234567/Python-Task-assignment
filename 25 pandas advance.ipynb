{
 "cells": [
  {
   "cell_type": "markdown",
   "id": "973d01e8-fc5c-4a6a-8e9c-db0e34fa8e31",
   "metadata": {},
   "source": [
    "### Consider following code to answer further questions: import pandas as pd\n",
    "\n",
    "### course_name = [‘Data Science’, ‘Machine Learning’, ‘Big Data’, ‘Data Engineer’]\n",
    "\n",
    "### duration = [2,3,6,4]\n",
    "\n",
    "### df = pd.DataFrame(data = {‘course_name’ : course_name, ‘duration’ : duration})\n",
    "\n",
    "## Q1. Write a code to print the data present in the second row of the dataframe, df."
   ]
  },
  {
   "cell_type": "code",
   "execution_count": 1,
   "id": "81ebce04-cf24-4751-b501-e3f8563c4f6c",
   "metadata": {},
   "outputs": [
    {
     "data": {
      "text/html": [
       "<div>\n",
       "<style scoped>\n",
       "    .dataframe tbody tr th:only-of-type {\n",
       "        vertical-align: middle;\n",
       "    }\n",
       "\n",
       "    .dataframe tbody tr th {\n",
       "        vertical-align: top;\n",
       "    }\n",
       "\n",
       "    .dataframe thead th {\n",
       "        text-align: right;\n",
       "    }\n",
       "</style>\n",
       "<table border=\"1\" class=\"dataframe\">\n",
       "  <thead>\n",
       "    <tr style=\"text-align: right;\">\n",
       "      <th></th>\n",
       "      <th>course_name</th>\n",
       "      <th>duration</th>\n",
       "    </tr>\n",
       "  </thead>\n",
       "  <tbody>\n",
       "    <tr>\n",
       "      <th>0</th>\n",
       "      <td>Data Science</td>\n",
       "      <td>2</td>\n",
       "    </tr>\n",
       "    <tr>\n",
       "      <th>1</th>\n",
       "      <td>Machine Learning</td>\n",
       "      <td>3</td>\n",
       "    </tr>\n",
       "    <tr>\n",
       "      <th>2</th>\n",
       "      <td>Big Data</td>\n",
       "      <td>6</td>\n",
       "    </tr>\n",
       "    <tr>\n",
       "      <th>3</th>\n",
       "      <td>Data Engineer</td>\n",
       "      <td>4</td>\n",
       "    </tr>\n",
       "  </tbody>\n",
       "</table>\n",
       "</div>"
      ],
      "text/plain": [
       "        course_name  duration\n",
       "0      Data Science         2\n",
       "1  Machine Learning         3\n",
       "2          Big Data         6\n",
       "3     Data Engineer         4"
      ]
     },
     "execution_count": 1,
     "metadata": {},
     "output_type": "execute_result"
    }
   ],
   "source": [
    "import pandas as pd\n",
    "course_name = ['Data Science', 'Machine Learning', 'Big Data', 'Data Engineer']\n",
    "duration = [2,3,6,4]\n",
    "df = pd.DataFrame(data = {'course_name' : course_name, 'duration' : duration})\n",
    "df"
   ]
  },
  {
   "cell_type": "markdown",
   "id": "3096ad9c-82fa-423b-9ce7-19bd75281222",
   "metadata": {},
   "source": [
    "## Q2. What is the difference between the functions loc and iloc in pandas.DataFrame?"
   ]
  },
  {
   "cell_type": "markdown",
   "id": "7cff03e9-3e97-40bd-bd8b-79023f1cd022",
   "metadata": {},
   "source": [
    "#### In pandas DataFrame, loc and iloc are used for indexing and selecting data. The main difference between these two functions is the way they accept input for row and column selection.\n",
    "\n",
    "#### loc is label-based and uses row and column labels to select data. It takes two arguments: the row labels and the column labels. For example, df.loc[2, 'duration'] would select the value in the 'duration' column for the row with label 2.\n",
    "\n",
    "#### iloc is integer-based and uses integer indices to select data. It takes two arguments: the row indices and the column indices. For example, df.iloc[2, 1] would select the value in the second column and third row (index 2) of the DataFrame.\n",
    "\n",
    "#### In summary, loc uses labels and iloc uses integer indices to select data from a pandas DataFrame.\n",
    "\n",
    "#### import pandas as pd course_name = [‘Data Science’, ‘Machine Learning’, ‘Big Data’, ‘Data Engineer’] duration = [2,3,6,4] df = pd.DataFrame(data = {‘course_name’ : course_name, ‘duration’ : duration})"
   ]
  },
  {
   "cell_type": "markdown",
   "id": "99877db3-b658-49b6-9fb3-0afa55772aa7",
   "metadata": {},
   "source": [
    "## Q3. Reindex the given dataframe using a variable, reindex = [3,0,1,2] and store it in the variable, new_df then find the output for both new_df.loc[2] and new_df.iloc[2]. Did you observe any difference in both the outputs? If so then explain it."
   ]
  },
  {
   "cell_type": "code",
   "execution_count": 2,
   "id": "20ec5c5a-faa8-446b-bbdd-aa251bec9a16",
   "metadata": {},
   "outputs": [
    {
     "name": "stdout",
     "output_type": "stream",
     "text": [
      "course_name    Big Data\n",
      "duration              6\n",
      "Name: 2, dtype: object\n",
      "course_name    Machine Learning\n",
      "duration                      3\n",
      "Name: 1, dtype: object\n"
     ]
    }
   ],
   "source": [
    "import pandas as pd\n",
    "\n",
    "course_name = ['Data Science', 'Machine Learning', 'Big Data', 'Data Engineer']\n",
    "duration = [2, 3, 6, 4]\n",
    "\n",
    "df = pd.DataFrame(data={'course_name': course_name, 'duration': duration})\n",
    "\n",
    "reindex = [3, 0, 1, 2]\n",
    "new_df = df.reindex(reindex)\n",
    "\n",
    "\n",
    "print(new_df.loc[2])  \n",
    "print(new_df.iloc[2])"
   ]
  },
  {
   "cell_type": "markdown",
   "id": "66dd967d-bfaa-431f-883a-3b5f82f77f25",
   "metadata": {},
   "source": [
    "#### import pandas as pd import numpy as np columns = ['column_1', 'column_2', 'column_3', 'column_4', 'column_5', 'column_6'] indices = [1,2,3,4,5,6]"
   ]
  },
  {
   "cell_type": "markdown",
   "id": "9de86762-de2b-4248-95c7-5942a7d860c7",
   "metadata": {},
   "source": [
    "# Creating a dataframe:"
   ]
  },
  {
   "cell_type": "markdown",
   "id": "51e4b422-ad55-4904-ba3a-0f0cf8916afd",
   "metadata": {},
   "source": [
    "#### df1 = pd.DataFrame(np.random.rand(6,6), columns = columns, index = indices)"
   ]
  },
  {
   "cell_type": "markdown",
   "id": "e4ef1c81-ab15-40ea-9353-9976e5b5b659",
   "metadata": {},
   "source": [
    "## Q4. Write a code to find the following statistical measurements for the above dataframe df1: (i) mean of each and every column present in the dataframe. (ii) standard deviation of column, ‘column_2’"
   ]
  },
  {
   "cell_type": "code",
   "execution_count": 3,
   "id": "b375305d-a1a5-4d8d-9e1b-04cd45139ff7",
   "metadata": {},
   "outputs": [
    {
     "name": "stdout",
     "output_type": "stream",
     "text": [
      "Mean of each column:\n",
      " column_1    0.601863\n",
      "column_2    0.492907\n",
      "column_3    0.793162\n",
      "column_4    0.581686\n",
      "column_5    0.789076\n",
      "column_6    0.442636\n",
      "dtype: float64\n",
      "Standard deviation of column 'column_2': 0.3334113256212304\n"
     ]
    }
   ],
   "source": [
    "import pandas as pd\n",
    "import numpy as np\n",
    "columns = ['column_1', 'column_2', 'column_3', 'column_4', 'column_5', 'column_6']\n",
    "indices = [1,2,3,4,5,6]\n",
    "#Creating a dataframe:\n",
    "df1 = pd.DataFrame(np.random.rand(6,6), columns = columns, index = indices)\n",
    "print(\"Mean of each column:\\n\", df1.mean())\n",
    "print(\"Standard deviation of column 'column_2':\", df1['column_2'].std())"
   ]
  },
  {
   "cell_type": "markdown",
   "id": "cb43a63f-5591-4861-88ca-f99cec9992fa",
   "metadata": {},
   "source": [
    "## Q5. Replace the data present in the second row of column, ‘column_2’ by a string variable then find the mean of column, column_2. If you are getting errors in executing it then explain why. [Hint: To replace the data use df1.loc[] and equate this to string data of your choice.]"
   ]
  },
  {
   "cell_type": "code",
   "execution_count": null,
   "id": "7c7e01df-9a03-45cb-8deb-419798fad60c",
   "metadata": {},
   "outputs": [],
   "source": [
    "import pandas as pd\n",
    "import numpy as np\n",
    "columns = ['column_1', 'column_2', 'column_3', 'column_4', 'column_5', 'column_6']\n",
    "indices = [1,2,3,4,5,6]\n",
    "#Creating a dataframe:\n",
    "df1 = pd.DataFrame(np.random.rand(6,6), columns = columns, index = indices)\n",
    "df1.loc[2, 'column_2'] = 'string data'\n",
    "print(df1)\n",
    "\n",
    "mean_column2 = df1['column_2'].mean()"
   ]
  },
  {
   "cell_type": "markdown",
   "id": "a254f5fc-f063-4d65-ad25-66fb4fc9b4f5",
   "metadata": {},
   "source": [
    "## Q6. What do you understand about the windows function in pandas and list the types of windows functions?"
   ]
  },
  {
   "cell_type": "markdown",
   "id": "4f622b44-e67e-4e49-8497-73c236189b1c",
   "metadata": {},
   "source": [
    "#### In pandas, a window function is a way of applying a function to a sliding window of data in a DataFrame. Window functions allow you to compute functions over a sliding window of data, where the size and shape of the window can be customized to fit your data and analysis needs. Window functions can be especially useful for time series data, but they can also be applied to other types of data.\n",
    "\n",
    "#### There are several types of window functions in pandas. Some of the most commonly used ones are:\n",
    "\n",
    "#### **Rolling Window Functions** : These functions operate on a rolling window of data of fixed size, sliding the window over the data and computing a statistic for each window. The rolling() method is used to define the window size and the apply() method is used to apply the function to each window.\n",
    "\n",
    "#### **Expanding Window Functions**: These functions compute a statistic for all data points up to and including the current data point. The expanding() method is used to define the expanding window and the apply() method is used to apply the function to each window.\n",
    "\n",
    "#### **Exponentially Weighted Moving Average (EWMA)**: These functions compute a weighted average of the data, where more recent data points are given more weight. The ewm() method is used to define the window size and the apply() method is used to apply the function to each window.\n",
    "\n",
    "#### **Groupby with Rolling/Expanding**: These functions can be used in combination with a groupby operation, allowing you to compute rolling or expanding window functions for each group of data.\n",
    "\n",
    "#### Other Window Functions: There are also other types of window functions available in pandas, such as the shift() function, which shifts the data up or down within a window, and the rank() function, which computes the rank of each data point within a window."
   ]
  },
  {
   "cell_type": "markdown",
   "id": "5855edf6-f5fd-4fa0-bd68-d2f58788b6eb",
   "metadata": {},
   "source": [
    "## Q7. Write a code to print only the current month and year at the time of answering this question. [Hint: Use pandas.datetime function]"
   ]
  },
  {
   "cell_type": "code",
   "execution_count": 5,
   "id": "04c28f7b-539a-4856-b9ad-e76200b1fabe",
   "metadata": {},
   "outputs": [
    {
     "name": "stdout",
     "output_type": "stream",
     "text": [
      "Current month: 4\n",
      "Current year: 2023\n"
     ]
    }
   ],
   "source": [
    "import datetime\n",
    "\n",
    "# Get the current date and time\n",
    "now = datetime.datetime.now()\n",
    "\n",
    "current_month = now.month\n",
    "current_year = now.year\n",
    "\n",
    "print(f\"Current month: {current_month}\")\n",
    "print(f\"Current year: {current_year}\")"
   ]
  },
  {
   "cell_type": "markdown",
   "id": "b223ed59-f8b6-4825-8f33-83a2e8ae0d95",
   "metadata": {},
   "source": [
    "## Q8. Write a Python program that takes in two dates as input (in the format YYYY-MM-DD) and calculates the difference between them in days, hours, and minutes using Pandas time delta. The program should prompt the user to enter the dates and display the result."
   ]
  },
  {
   "cell_type": "code",
   "execution_count": 6,
   "id": "3d7ce679-fb57-4f09-a354-03e9ecbe7ea5",
   "metadata": {},
   "outputs": [
    {
     "name": "stdin",
     "output_type": "stream",
     "text": [
      "Enter the first date (YYYY-MM-DD):  2023-04-08\n",
      "Enter the second date (YYYY-MM-DD):  2022-04-08\n"
     ]
    },
    {
     "name": "stdout",
     "output_type": "stream",
     "text": [
      "The difference between 2023-04-08 and 2022-04-08 is:\n",
      "-365 days, 0 hours, and 0 minutes.\n"
     ]
    }
   ],
   "source": [
    "import pandas as pd\n",
    "\n",
    "date1_str = input(\"Enter the first date (YYYY-MM-DD): \")\n",
    "date2_str = input(\"Enter the second date (YYYY-MM-DD): \")\n",
    "\n",
    "\n",
    "date1 = pd.to_datetime(date1_str)\n",
    "date2 = pd.to_datetime(date2_str)\n",
    "\n",
    "delta = date2 - date1\n",
    "\n",
    "days = delta.days\n",
    "hours = delta.seconds // 3600\n",
    "minutes = (delta.seconds % 3600) // 60\n",
    "\n",
    "\n",
    "print(f\"The difference between {date1_str} and {date2_str} is:\")\n",
    "print(f\"{days} days, {hours} hours, and {minutes} minutes.\")"
   ]
  },
  {
   "cell_type": "markdown",
   "id": "e22c3dee-0ced-4628-a582-d0ed8e232a3d",
   "metadata": {},
   "source": [
    "## Q9. Write a Python program that reads a CSV file containing categorical data and converts a specified column to a categorical data type. The program should prompt the user to enter the file path, column name, and category order, and then display the sorted data."
   ]
  },
  {
   "cell_type": "code",
   "execution_count": null,
   "id": "c3f65da1-71a6-444c-beb8-6d66c0e2a807",
   "metadata": {},
   "outputs": [],
   "source": [
    "import pandas as pd\n",
    "\n",
    "\n",
    "file_path = input(\"Enter the file path: \")\n",
    "col_name = input(\"Enter the column name: \")\n",
    "cat_order_str = input(\"Enter the category order (comma-separated list): \")\n",
    "cat_order = cat_order_str.split(\",\")\n",
    "\n",
    "\n",
    "df = pd.read_csv(file_path)\n",
    "\n",
    "\n",
    "df[col_name] = pd.Categorical(df[col_name], categories=cat_order, ordered=True)\n",
    "\n",
    "\n",
    "print(df.sort_values(col_name))"
   ]
  },
  {
   "cell_type": "markdown",
   "id": "d2f2ffee-b986-4924-8dad-14a4043e4880",
   "metadata": {},
   "source": [
    "## Q10. Write a Python program that reads a CSV file containing sales data for different products and visualizes the data using a stacked bar chart to show the sales of each product category over time. The program should prompt the user to enter the file path and display the chart."
   ]
  },
  {
   "cell_type": "code",
   "execution_count": null,
   "id": "caf40576-e519-4bb7-868e-022cec3327b2",
   "metadata": {},
   "outputs": [],
   "source": [
    "#### import pandas as pd\n",
    "import matplotlib.pyplot as plt\n",
    "\n",
    "file_path = input(\"Enter the file path: \")\n",
    "\n",
    "df = pd.read_csv(file_path)\n",
    "df['date'] = pd.to_datetime(df['date'])\n",
    "sales_by_category = df.groupby(['category', 'date'])['sales'].sum().unstack('category')\n",
    "sales_by_category.plot(kind='bar', stacked=True)\n",
    "\n",
    "plt.title('Sales by Product Category over Time')\n",
    "plt.xlabel('Date')\n",
    "plt.ylabel('Sales')\n",
    "\n",
    "plt.show()"
   ]
  },
  {
   "cell_type": "markdown",
   "id": "4b1fdee8-559b-4648-b574-9874ec658dfc",
   "metadata": {},
   "source": [
    "## Q11. You are given a CSV file containing student data that includes the student ID and their test score. Write a Python program that reads the CSV file, calculates the mean, median, and mode of the test scores, and displays the results in a table. The program should do the followingM I Prompt the user to enter the file path of the CSV file containing the student dataR I Read the CSV file into a Pandas DataFrameR I Calculate the mean, median, and mode of the test scores using Pandas toolsR I Display the mean, median, and mode in a table. Assume the CSV file contains the following columnsM I Student ID: The ID of the studentR I Test Score: The score of the student's test. Example usage of the program: Enter the file path of the CSV file containing the student data: student_data.csv +-----------+--------+ | Statistic | Value | +-----------+--------+ | Mean | 79.6 | | Median | 82 | | Mode | 85, 90 | +-----------+--------+ Assume that the CSV file student_data.csv contains the following data: Student ID,Test Score 1,85 2,90 3,80 4,75 5,85 6,82 7,78 8,85 9,90 10,85 The program should calculate the mean, median, and mode of the test scores and display the results in a table."
   ]
  },
  {
   "cell_type": "code",
   "execution_count": null,
   "id": "fc494ed1-0f72-4d4d-928a-f2c5e4e9d012",
   "metadata": {},
   "outputs": [],
   "source": [
    "import pandas as pd\n",
    "\n",
    "\n",
    "file_path = input(\"Enter the file path of the CSV file containing the student data: \")\n",
    "\n",
    "# Read CSV file into a Pandas DataFrame\n",
    "df = pd.read_csv(file_path)\n",
    "\n",
    "# Calculate mean, median, and mode of test scores\n",
    "mean = df['Test Score'].mean()\n",
    "median = df['Test Score'].median()\n",
    "mode = df['Test Score'].mode().tolist()\n",
    "\n",
    "# Display results in a table\n",
    "print(\"+-----------+--------+\")\n",
    "print(\"| Statistic | Value  |\")\n",
    "print(\"+-----------+--------+\")\n",
    "print(f\"| Mean      | {mean:5.1f}  |\")\n",
    "print(f\"| Median    | {median:5.0f}  |\")\n",
    "print(f\"| Mode      | {', '.join(map(str, mode))} |\")\n",
    "print(\"+-----------+--------+\")"
   ]
  },
  {
   "cell_type": "code",
   "execution_count": null,
   "id": "733034be-0691-4ac9-90e7-f69687036f51",
   "metadata": {},
   "outputs": [],
   "source": []
  },
  {
   "cell_type": "code",
   "execution_count": null,
   "id": "5457b923-32d4-4624-8e1f-ba5ed2e7802c",
   "metadata": {},
   "outputs": [],
   "source": []
  }
 ],
 "metadata": {
  "kernelspec": {
   "display_name": "Python 3 (ipykernel)",
   "language": "python",
   "name": "python3"
  },
  "language_info": {
   "codemirror_mode": {
    "name": "ipython",
    "version": 3
   },
   "file_extension": ".py",
   "mimetype": "text/x-python",
   "name": "python",
   "nbconvert_exporter": "python",
   "pygments_lexer": "ipython3",
   "version": "3.10.8"
  }
 },
 "nbformat": 4,
 "nbformat_minor": 5
}
