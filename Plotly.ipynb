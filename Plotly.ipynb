{
 "cells": [
  {
   "cell_type": "markdown",
   "id": "02a2f838-fea5-4f54-9a22-66590c642f1f",
   "metadata": {},
   "source": [
    "## Q1. Load the \"titanic\" dataset using the load_dataset function of seaborn. Use Plotly express to plot a scatter plot for age and fare columns in the titanic dataset."
   ]
  },
  {
   "cell_type": "code",
   "execution_count": null,
   "id": "c280a319-bd1e-45bc-a824-b66d503b926a",
   "metadata": {},
   "outputs": [],
   "source": [
    "import seaborn as sns\n",
    "import plotly.express as px\n",
    "\n",
    "titanic_data = sns.load_dataset('titanic')\n",
    "scatter_fig = px.scatter(titanic_data, x='age', y='fare')\n",
    "\n",
    "scatter_fig.show()"
   ]
  },
  {
   "cell_type": "markdown",
   "id": "a91b5ceb-1f5d-4711-9663-bb9d24f6fd0a",
   "metadata": {},
   "source": [
    "## Q2. Using the tips dataset in the Plotly library, plot a box plot using Plotly express."
   ]
  },
  {
   "cell_type": "code",
   "execution_count": null,
   "id": "58f0a1a3-fb02-48ac-8221-79bcab2c8f7f",
   "metadata": {},
   "outputs": [],
   "source": [
    "import plotly.express as px\n",
    "tips_data = px.data.tips()\n",
    "\n",
    "box_fig = px.box(tips_data, x=\"day\", y=\"total_bill\", color=\"sex\")\n",
    "box_fig.show()"
   ]
  },
  {
   "cell_type": "markdown",
   "id": "1f366a30-cb9e-47e8-8be2-f3fa9187b89d",
   "metadata": {},
   "source": [
    "## Q3. Using the tips dataset in the Plotly library, Plot a histogram for x= \"sex\" and y=\"total_bill\" column in the tips dataset. Also, use the \"smoker\" column with the pattern_shape parameter and the \"day\" column with the color parameter."
   ]
  },
  {
   "cell_type": "code",
   "execution_count": null,
   "id": "33af2e79-4063-42d5-a8db-de52dba7bd98",
   "metadata": {},
   "outputs": [],
   "source": [
    "\n",
    "import plotly.express as px\n",
    "tips_data = px.data.tips()\n",
    "\n",
    "hist_fig = px.histogram(tips_data, x=\"sex\", y=\"total_bill\", color=\"day\",\n",
    "                         marginal=\"box\", hover_data=tips_data.columns,\n",
    "                         pattern_shape=\"smoker\")\n",
    "\n",
    "hist_fig.show()\n"
   ]
  },
  {
   "cell_type": "markdown",
   "id": "a67dd22a-074d-4493-884e-25fc6a4dd7c6",
   "metadata": {},
   "source": [
    "## Q4. Using the iris dataset in the Plotly library, Plot a scatter matrix plot, using the \"species\" column for the color parameter. Note: Use \"sepal_length\", \"sepal_width\", \"petal_length\", \"petal_width\" columns only with the dimensions parameter."
   ]
  },
  {
   "cell_type": "code",
   "execution_count": null,
   "id": "6ed9e327-cd7e-4b82-9de4-c3e503208b61",
   "metadata": {},
   "outputs": [],
   "source": [
    "\n",
    "import plotly.express as px\n",
    "iris_data = px.data.iris()\n",
    "\n",
    "scatter_matrix_fig = px.scatter_matrix(iris_data, dimensions=[\"sepal_length\", \"sepal_width\", \"petal_length\", \"petal_width\"],\n",
    "                                       color=\"species\")\n",
    "\n",
    "scatter_matrix_fig.show()\n"
   ]
  },
  {
   "cell_type": "markdown",
   "id": "c321d6d7-2aaa-4b6b-9f33-9bd31e05ec99",
   "metadata": {},
   "source": [
    "## Q5. What is Distplot? Using Plotly express, plot a distplot."
   ]
  },
  {
   "cell_type": "markdown",
   "id": "cfdfb5d2-cc9a-43be-b0c9-9e9c89cf6a65",
   "metadata": {},
   "source": [
    "####  Distplot is a histogram-like plot that shows the probability density function of a continuous variable. It combines a histogram with a kernel density estimation (KDE) plot to provide a smoothed curve that estimates the probability density function of the data."
   ]
  },
  {
   "cell_type": "code",
   "execution_count": null,
   "id": "5c86f663-f20f-42ac-86cf-1b406d22c76d",
   "metadata": {},
   "outputs": [],
   "source": [
    "\n",
    "import plotly.express as px\n",
    "import numpy as np\n",
    "\n",
    "# Generate some random data\n",
    "np.random.seed(42)\n",
    "data = np.random.normal(0, 1, 1000)\n",
    "fig = px.histogram(data, nbins=50, opacity=0.5, marginal='box', histnorm='probability density')\n",
    "\n",
    "fig.show()\n"
   ]
  },
  {
   "cell_type": "code",
   "execution_count": null,
   "id": "f48d46f2-ad63-4335-a5be-033e807b65a7",
   "metadata": {},
   "outputs": [],
   "source": []
  },
  {
   "cell_type": "code",
   "execution_count": null,
   "id": "64e93e0c-2e90-4649-8af6-ef65680493de",
   "metadata": {},
   "outputs": [],
   "source": []
  },
  {
   "cell_type": "code",
   "execution_count": null,
   "id": "df789892-b65f-4c78-bb49-a4a05e0becb1",
   "metadata": {},
   "outputs": [],
   "source": []
  },
  {
   "cell_type": "code",
   "execution_count": null,
   "id": "92b5992d-07ab-4a10-b0ed-fcc11c67bb5d",
   "metadata": {},
   "outputs": [],
   "source": []
  },
  {
   "cell_type": "code",
   "execution_count": null,
   "id": "bd29d698-c071-4a8e-a6cc-b63894af9d88",
   "metadata": {},
   "outputs": [],
   "source": []
  }
 ],
 "metadata": {
  "kernelspec": {
   "display_name": "Python 3 (ipykernel)",
   "language": "python",
   "name": "python3"
  },
  "language_info": {
   "codemirror_mode": {
    "name": "ipython",
    "version": 3
   },
   "file_extension": ".py",
   "mimetype": "text/x-python",
   "name": "python",
   "nbconvert_exporter": "python",
   "pygments_lexer": "ipython3",
   "version": "3.10.8"
  }
 },
 "nbformat": 4,
 "nbformat_minor": 5
}
