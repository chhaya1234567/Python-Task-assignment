{
 "cells": [
  {
   "cell_type": "markdown",
   "id": "1459f617-244e-486f-b3a5-d1618c6fa264",
   "metadata": {},
   "source": [
    "## Q1. List any five functions of the pandas library with execution."
   ]
  },
  {
   "cell_type": "markdown",
   "id": "408d4c3b-d74e-4562-a727-044e45d798a5",
   "metadata": {},
   "source": [
    "#### here are five functions of the pandas library with example execution:\n",
    "\n",
    "#### **read_csv**: Used to read a CSV file into a pandas DataFrame object."
   ]
  },
  {
   "cell_type": "code",
   "execution_count": null,
   "id": "d42ff4b1-65aa-441a-9285-fb31d08e7c84",
   "metadata": {},
   "outputs": [],
   "source": [
    "import pandas as pd\n",
    "df = pd.read_csv('data.csv')\n"
   ]
  },
  {
   "cell_type": "markdown",
   "id": "dd732385-3b57-4896-b2f6-dbaaa61eb437",
   "metadata": {},
   "source": [
    "#### **head**: Used to display the first n rows of a DataFrame."
   ]
  },
  {
   "cell_type": "code",
   "execution_count": null,
   "id": "507cee73-1b05-4a3b-873c-a425ef99b54d",
   "metadata": {},
   "outputs": [],
   "source": [
    "import pandas as pd\n",
    "df = pd.read_csv('data.csv')\n",
    "df.head(10)\n"
   ]
  },
  {
   "cell_type": "markdown",
   "id": "ecdd0967-24f1-4cec-90f7-b5cadc156f86",
   "metadata": {},
   "source": [
    "#### **describe**: Used to generate descriptive statistics of a DataFrame."
   ]
  },
  {
   "cell_type": "code",
   "execution_count": null,
   "id": "ee99488a-52d2-4e68-9020-fab534966968",
   "metadata": {},
   "outputs": [],
   "source": [
    "import pandas as pd\n",
    "df = pd.read_csv('data.csv')\n",
    "df.describe()\n"
   ]
  },
  {
   "cell_type": "markdown",
   "id": "45bd59a5-ff53-4cf4-a396-97cf36c18b78",
   "metadata": {},
   "source": [
    "#### **groupby**: Used to group rows of a DataFrame by one or more columns, and apply a function to each group."
   ]
  },
  {
   "cell_type": "code",
   "execution_count": null,
   "id": "71513436-829c-4760-9202-e20a86f78677",
   "metadata": {},
   "outputs": [],
   "source": [
    "import pandas as pd\n",
    "df = pd.read_csv('data.csv')\n",
    "grouped_df = df.groupby('column_name')\n",
    "grouped_df.mean()\n"
   ]
  },
  {
   "cell_type": "markdown",
   "id": "a9f89b75-9744-4699-8dfc-7627de75d735",
   "metadata": {},
   "source": [
    "#### **merge**: Used to merge two DataFrames on one or more columns."
   ]
  },
  {
   "cell_type": "code",
   "execution_count": null,
   "id": "44a1ae52-97bb-4e36-bbbd-fe6e227a8862",
   "metadata": {},
   "outputs": [],
   "source": [
    "import pandas as pd\n",
    "df1 = pd.read_csv('data1.csv')\n",
    "df2 = pd.read_csv('data2.csv')\n",
    "merged_df = pd.merge(df1, df2, on='column_name')\n"
   ]
  },
  {
   "cell_type": "markdown",
   "id": "5a0dd814-9946-48e4-95a6-78e1f25aa675",
   "metadata": {},
   "source": [
    "## Q2. Given a Pandas DataFrame df with columns 'A', 'B', and 'C', write a Python function to re-index the DataFrame with a new index that starts from 1 and increments by 2 for each row."
   ]
  },
  {
   "cell_type": "markdown",
   "id": "68c67ab3-b35b-49f5-9e29-91edaa9e4d1d",
   "metadata": {},
   "source": [
    "#### here's a Python function that re-indexes the DataFrame with a new index that starts from 1 and increments by 2 for each row:"
   ]
  },
  {
   "cell_type": "code",
   "execution_count": 1,
   "id": "9d7ea001-a725-488b-93e5-080d8f3d1eec",
   "metadata": {},
   "outputs": [],
   "source": [
    "import pandas as pd\n",
    "\n",
    "def reindex_dataframe(df):\n",
    "    new_index = range(1, 2 * len(df) + 1, 2) # create a new index with start=1 and increment=2\n",
    "    df = df.reset_index(drop=True) # reset the existing index\n",
    "    df.index = new_index # set the new index\n",
    "    return df\n"
   ]
  },
  {
   "cell_type": "markdown",
   "id": "cba282df-d7d0-420e-9dbe-508a8f7c3b5b",
   "metadata": {},
   "source": [
    "#### we can call this function and pass our DataFrame df as an argument to re-index it:"
   ]
  },
  {
   "cell_type": "code",
   "execution_count": 2,
   "id": "1750a1fd-80f6-492b-a39e-62f331d18e14",
   "metadata": {},
   "outputs": [
    {
     "name": "stdout",
     "output_type": "stream",
     "text": [
      "    A   B   C\n",
      "1  10  40  70\n",
      "3  20  50  80\n",
      "5  30  60  90\n"
     ]
    }
   ],
   "source": [
    "df = pd.DataFrame({'A': [10, 20, 30], 'B': [40, 50, 60], 'C': [70, 80, 90]})\n",
    "df = reindex_dataframe(df)\n",
    "print(df)\n"
   ]
  },
  {
   "cell_type": "markdown",
   "id": "de7f38b5-ae6c-49ae-bfe4-397bf7550550",
   "metadata": {},
   "source": [
    "## Q3. You have a Pandas DataFrame df with a column named 'Values'. Write a Python function that iterates over the DataFrame and calculates the sum of the first three values in the 'Values' column. The function should print the sum to the console."
   ]
  },
  {
   "cell_type": "markdown",
   "id": "cb2cb1ac-1bf2-41af-8b0f-0d18d9cc2393",
   "metadata": {},
   "source": [
    "#### here's a Python function that iterates over the DataFrame and calculates the sum of the first three values in the 'Values' column:"
   ]
  },
  {
   "cell_type": "markdown",
   "id": "2595529d-85e8-4c98-a6f2-5928a57962cc",
   "metadata": {},
   "source": [
    "#### we can call this function and pass our DataFrame df as an argument to calculate the sum of the first three values in the 'Values' column:"
   ]
  },
  {
   "cell_type": "code",
   "execution_count": 3,
   "id": "1d5ae24f-cd05-42ce-99f7-a248635d3704",
   "metadata": {},
   "outputs": [
    {
     "name": "stdout",
     "output_type": "stream",
     "text": [
      "60\n"
     ]
    }
   ],
   "source": [
    "import pandas as pd\n",
    "\n",
    "def sum_first_three_values(df):\n",
    "    sum_three = 0\n",
    "    for i, row in df.iterrows():\n",
    "        if i < 3:\n",
    "            sum_three += row['Values']\n",
    "        else:\n",
    "            break\n",
    "    print(sum_three)\n",
    "df = pd.DataFrame({'Values': [10, 20, 30, 40, 50]})\n",
    "sum_first_three_values(df)\n"
   ]
  },
  {
   "cell_type": "markdown",
   "id": "66d120f4-036d-4950-ac8b-938609c4154f",
   "metadata": {},
   "source": [
    "## Q4. Given a Pandas DataFrame df with a column 'Text', write a Python function to create a new column 'Word_Count' that contains the number of words in each row of the 'Text' column."
   ]
  },
  {
   "cell_type": "code",
   "execution_count": 4,
   "id": "88a226a9-c677-4bac-ad6f-f9a087986b07",
   "metadata": {},
   "outputs": [
    {
     "data": {
      "text/html": [
       "<div>\n",
       "<style scoped>\n",
       "    .dataframe tbody tr th:only-of-type {\n",
       "        vertical-align: middle;\n",
       "    }\n",
       "\n",
       "    .dataframe tbody tr th {\n",
       "        vertical-align: top;\n",
       "    }\n",
       "\n",
       "    .dataframe thead th {\n",
       "        text-align: right;\n",
       "    }\n",
       "</style>\n",
       "<table border=\"1\" class=\"dataframe\">\n",
       "  <thead>\n",
       "    <tr style=\"text-align: right;\">\n",
       "      <th></th>\n",
       "      <th>Text</th>\n",
       "      <th>word_count</th>\n",
       "    </tr>\n",
       "  </thead>\n",
       "  <tbody>\n",
       "    <tr>\n",
       "      <th>0</th>\n",
       "      <td>This is a sample sentence.</td>\n",
       "      <td>5</td>\n",
       "    </tr>\n",
       "    <tr>\n",
       "      <th>1</th>\n",
       "      <td>Here is another one.</td>\n",
       "      <td>4</td>\n",
       "    </tr>\n",
       "  </tbody>\n",
       "</table>\n",
       "</div>"
      ],
      "text/plain": [
       "                         Text  word_count\n",
       "0  This is a sample sentence.           5\n",
       "1        Here is another one.           4"
      ]
     },
     "execution_count": 4,
     "metadata": {},
     "output_type": "execute_result"
    }
   ],
   "source": [
    "df = pd.DataF#rame({'Text': ['This is a sample sentence.', 'Here is another one.']})\n",
    "df['word_count'] = df['Text'].apply(lambda x : len(x.split()))\n",
    "df\n"
   ]
  },
  {
   "cell_type": "markdown",
   "id": "df753a6b-8627-4f91-903d-8cd97ee66a03",
   "metadata": {},
   "source": [
    "## Q5. How are DataFrame.size() and DataFrame.shape() different?"
   ]
  },
  {
   "cell_type": "markdown",
   "id": "06365476-6b4f-4472-87e5-3da225b18b34",
   "metadata": {},
   "source": [
    "#### Both DataFrame.size() and DataFrame.shape() are methods of Pandas DataFrame, but they return different information.\n",
    "\n",
    "#### DataFrame.size() returns the total number of elements in a DataFrame, which is the product of the number of rows and columns in the DataFrame. In other words, it returns the total number of cells in the DataFrame.\n",
    "\n",
    "#### DataFrame.shape() returns a tuple with the number of rows and columns in the DataFrame. For example, if a DataFrame has 10 rows and 5 columns, DataFrame.shape() will return (10, 5).\n",
    "\n",
    "#### So, the main difference between DataFrame.size() and DataFrame.shape() is that size() returns the total number of elements in the DataFrame, while shape() returns a tuple with the number of rows and columns in the DataFrame."
   ]
  },
  {
   "cell_type": "markdown",
   "id": "c3167835-9f8c-4a27-8099-e6af6874bb5f",
   "metadata": {},
   "source": [
    "## Q6. Which function of pandas do we use to read an excel file?"
   ]
  },
  {
   "cell_type": "markdown",
   "id": "cba01460-9ef5-4278-a121-7563b749fadb",
   "metadata": {},
   "source": [
    "#### We use the pandas function read_excel() to read an Excel file in pandas. This function can read both .xls and .xlsx file formats."
   ]
  },
  {
   "cell_type": "markdown",
   "id": "0a3647a1-6c14-4c87-bc79-0d2eb2f363a6",
   "metadata": {},
   "source": [
    "## Q7. You have a Pandas DataFrame df that contains a column named 'Email' that contains email addresses in the format 'username@domain.com'. Write a Python function that creates a new column 'Username' in df that contains only the username part of each email address. The username is the part of the email address that appears before the '@' symbol. For example, if the email address is 'john.doe@example.com', the 'Username' column should contain 'john.doe'. Your function should extract the username from each email address and store it in the new 'Username' column."
   ]
  },
  {
   "cell_type": "code",
   "execution_count": 6,
   "id": "8464dfc1-73e6-4d28-9522-1ee5aed50fc9",
   "metadata": {},
   "outputs": [
    {
     "name": "stdout",
     "output_type": "stream",
     "text": [
      "                  Email  Username\n",
      "0  john.doe@example.com  john.doe\n",
      "1  jane.doe@example.com  jane.doe\n"
     ]
    }
   ],
   "source": [
    "import pandas as pd\n",
    "\n",
    "def extract_username(df):\n",
    "    df['Username'] = df['Email'].apply(lambda x: x.split('@')[0])\n",
    "    return df\n",
    "\n",
    "df = pd.DataFrame({'Email': ['john.doe@example.com', 'jane.doe@example.com']})\n",
    "df = extract_username(df)\n",
    "print(df)"
   ]
  },
  {
   "cell_type": "markdown",
   "id": "2676242b-ee4d-44b9-b4d4-f44105fa3ea0",
   "metadata": {},
   "source": [
    "## Q8. You have a Pandas DataFrame df with columns 'A', 'B', and 'C'. Write a Python function that selects all rows where the value in column 'A' is greater than 5 and the value in column 'B' is less than 10. The function should return a new DataFrame that contains only the selected rows. For example, if df contains the following values: A B C 0 3 5 1 1 8 2 7 2 6 9 4 3 2 3 5 4 9 1 2 Your function should select the following rows: A B C 1 8 2 7 4 9 1 2 The function should return a new DataFrame that contains only the selected rows."
   ]
  },
  {
   "cell_type": "code",
   "execution_count": 8,
   "id": "b8e9a6df-54e2-4e76-a454-d6a5a9517c2a",
   "metadata": {},
   "outputs": [
    {
     "name": "stdout",
     "output_type": "stream",
     "text": [
      "   A  B  C\n",
      "1  8  2  7\n",
      "2  6  9  4\n",
      "4  9  1  2\n"
     ]
    }
   ],
   "source": [
    "import pandas as pd\n",
    "\n",
    "def select_rows(df):\n",
    "    selected_rows = df[(df['A'] > 5) & (df['B'] < 10)]\n",
    "    return selected_rows\n",
    "\n",
    "df = pd.DataFrame({\n",
    "    'A': [3, 8, 6, 2, 9],\n",
    "    'B': [5, 2, 9, 3, 1],\n",
    "    'C': [1, 7, 4, 5, 2]\n",
    "})\n",
    "\n",
    "selected_df = select_rows(df)\n",
    "print(selected_df)"
   ]
  },
  {
   "cell_type": "markdown",
   "id": "bf59c37a-6b03-41b4-90c3-18138deec7e3",
   "metadata": {},
   "source": [
    "## Q9. Given a Pandas DataFrame df with a column 'Values', write a Python function to calculate the mean, median, and standard deviation of the values in the 'Values' column."
   ]
  },
  {
   "cell_type": "code",
   "execution_count": 9,
   "id": "9b8bdefb-c4e0-4d26-98a0-c91e2ab5704f",
   "metadata": {},
   "outputs": [
    {
     "name": "stdout",
     "output_type": "stream",
     "text": [
      "mean :  Values    5.5\n",
      "dtype: float64\n",
      "median :  Values    5.5\n",
      "dtype: float64\n",
      "standard deviation :  Values    3.02765\n",
      "dtype: float64\n"
     ]
    }
   ],
   "source": [
    "import pandas as pd\n",
    "df=pd.DataFrame({'Values':[1,2,3,4,5,6,7,8,9,10]})\n",
    "print('mean : ',df.mean())\n",
    "print('median : ',df.median())\n",
    "print('standard deviation : ',df.std())"
   ]
  },
  {
   "cell_type": "markdown",
   "id": "38930dd7-f50a-4c7c-8a81-5bb6e0af9227",
   "metadata": {},
   "source": [
    "## Q10. Given a Pandas DataFrame df with a column 'Sales' and a column 'Date', write a Python function to create a new column 'MovingAverage' that contains the moving average of the sales for the past 7 days for each row in the DataFrame. The moving average should be calculated using a window of size 7 and should include the current day."
   ]
  },
  {
   "cell_type": "code",
   "execution_count": 10,
   "id": "2dc691db-2e85-442e-896f-c5f923aabe11",
   "metadata": {},
   "outputs": [
    {
     "data": {
      "text/html": [
       "<div>\n",
       "<style scoped>\n",
       "    .dataframe tbody tr th:only-of-type {\n",
       "        vertical-align: middle;\n",
       "    }\n",
       "\n",
       "    .dataframe tbody tr th {\n",
       "        vertical-align: top;\n",
       "    }\n",
       "\n",
       "    .dataframe thead th {\n",
       "        text-align: right;\n",
       "    }\n",
       "</style>\n",
       "<table border=\"1\" class=\"dataframe\">\n",
       "  <thead>\n",
       "    <tr style=\"text-align: right;\">\n",
       "      <th></th>\n",
       "      <th>Sales</th>\n",
       "      <th>Date</th>\n",
       "      <th>MovingAverage</th>\n",
       "    </tr>\n",
       "  </thead>\n",
       "  <tbody>\n",
       "    <tr>\n",
       "      <th>0</th>\n",
       "      <td>100</td>\n",
       "      <td>2022-01-01</td>\n",
       "      <td>100.0</td>\n",
       "    </tr>\n",
       "    <tr>\n",
       "      <th>1</th>\n",
       "      <td>150</td>\n",
       "      <td>2022-01-02</td>\n",
       "      <td>125.0</td>\n",
       "    </tr>\n",
       "    <tr>\n",
       "      <th>2</th>\n",
       "      <td>200</td>\n",
       "      <td>2022-01-03</td>\n",
       "      <td>150.0</td>\n",
       "    </tr>\n",
       "    <tr>\n",
       "      <th>3</th>\n",
       "      <td>250</td>\n",
       "      <td>2022-01-04</td>\n",
       "      <td>175.0</td>\n",
       "    </tr>\n",
       "    <tr>\n",
       "      <th>4</th>\n",
       "      <td>300</td>\n",
       "      <td>2022-01-05</td>\n",
       "      <td>200.0</td>\n",
       "    </tr>\n",
       "  </tbody>\n",
       "</table>\n",
       "</div>"
      ],
      "text/plain": [
       "   Sales        Date  MovingAverage\n",
       "0    100  2022-01-01          100.0\n",
       "1    150  2022-01-02          125.0\n",
       "2    200  2022-01-03          150.0\n",
       "3    250  2022-01-04          175.0\n",
       "4    300  2022-01-05          200.0"
      ]
     },
     "execution_count": 10,
     "metadata": {},
     "output_type": "execute_result"
    }
   ],
   "source": [
    "import pandas as pd\n",
    "\n",
    "sales_data = {\n",
    "    'Sales': [100, 150, 200, 250, 300],\n",
    "    'Date': ['2022-01-01', '2022-01-02', '2022-01-03', '2022-01-04', '2022-01-05']\n",
    "}\n",
    "\n",
    "\n",
    "df = pd.DataFrame(sales_data)\n",
    "df['MovingAverage'] = df['Sales'].rolling(window=7, min_periods=1).mean()\n",
    "df"
   ]
  },
  {
   "cell_type": "markdown",
   "id": "6ec247c6-8154-42f3-938d-6ef5e92ef6e7",
   "metadata": {},
   "source": [
    "## Q11. You have a Pandas DataFrame df with a column 'Date'. Write a Python function that creates a new column 'Weekday' in the DataFrame. The 'Weekday' column should contain the weekday name (e.g. Monday, Tuesday) corresponding to each date in the 'Date' column. For example, if df contains the following values: Date 0 2023-01-01 1 2023-01-02 2 2023-01-03 3 2023-01-04 4 2023-01-05 Your function should create the following DataFrame:\n",
    "\n",
    "## Date Weekday 0 2023-01-01 Sunday 1 2023-01-02 Monday 2 2023-01-03 Tuesday 3 2023-01-04 Wednesday 4 2023-01-05 Thursday The function should return the modified DataFrame."
   ]
  },
  {
   "cell_type": "code",
   "execution_count": 11,
   "id": "aee7294a-1a10-4131-9a81-3237abc021ce",
   "metadata": {},
   "outputs": [
    {
     "data": {
      "text/html": [
       "<div>\n",
       "<style scoped>\n",
       "    .dataframe tbody tr th:only-of-type {\n",
       "        vertical-align: middle;\n",
       "    }\n",
       "\n",
       "    .dataframe tbody tr th {\n",
       "        vertical-align: top;\n",
       "    }\n",
       "\n",
       "    .dataframe thead th {\n",
       "        text-align: right;\n",
       "    }\n",
       "</style>\n",
       "<table border=\"1\" class=\"dataframe\">\n",
       "  <thead>\n",
       "    <tr style=\"text-align: right;\">\n",
       "      <th></th>\n",
       "      <th>Date</th>\n",
       "      <th>Weekday</th>\n",
       "    </tr>\n",
       "  </thead>\n",
       "  <tbody>\n",
       "    <tr>\n",
       "      <th>0</th>\n",
       "      <td>2023-01-01</td>\n",
       "      <td>Sunday</td>\n",
       "    </tr>\n",
       "    <tr>\n",
       "      <th>1</th>\n",
       "      <td>2023-01-02</td>\n",
       "      <td>Monday</td>\n",
       "    </tr>\n",
       "    <tr>\n",
       "      <th>2</th>\n",
       "      <td>2023-01-03</td>\n",
       "      <td>Tuesday</td>\n",
       "    </tr>\n",
       "    <tr>\n",
       "      <th>3</th>\n",
       "      <td>2023-01-04</td>\n",
       "      <td>Wednesday</td>\n",
       "    </tr>\n",
       "    <tr>\n",
       "      <th>4</th>\n",
       "      <td>2023-01-05</td>\n",
       "      <td>Thursday</td>\n",
       "    </tr>\n",
       "  </tbody>\n",
       "</table>\n",
       "</div>"
      ],
      "text/plain": [
       "        Date    Weekday\n",
       "0 2023-01-01     Sunday\n",
       "1 2023-01-02     Monday\n",
       "2 2023-01-03    Tuesday\n",
       "3 2023-01-04  Wednesday\n",
       "4 2023-01-05   Thursday"
      ]
     },
     "execution_count": 11,
     "metadata": {},
     "output_type": "execute_result"
    }
   ],
   "source": [
    "import pandas as pd\n",
    "dates = pd.date_range(start='2023-01-01', end='2023-01-05')\n",
    "df = pd.DataFrame({'Date': dates})\n",
    "df['Weekday'] = df['Date'].dt.day_name()\n",
    "  \n",
    "df"
   ]
  },
  {
   "cell_type": "markdown",
   "id": "2c038910-eb38-4bf6-9883-d5c1f2531a09",
   "metadata": {},
   "source": [
    "## Q12. Given a Pandas DataFrame df with a column 'Date' that contains timestamps, write a Python function to select all rows where the date is between '2023-01-01' and '2023-01-31'."
   ]
  },
  {
   "cell_type": "code",
   "execution_count": 12,
   "id": "74800a46-6562-4b6f-b158-31523c79b08d",
   "metadata": {},
   "outputs": [
    {
     "data": {
      "text/html": [
       "<div>\n",
       "<style scoped>\n",
       "    .dataframe tbody tr th:only-of-type {\n",
       "        vertical-align: middle;\n",
       "    }\n",
       "\n",
       "    .dataframe tbody tr th {\n",
       "        vertical-align: top;\n",
       "    }\n",
       "\n",
       "    .dataframe thead th {\n",
       "        text-align: right;\n",
       "    }\n",
       "</style>\n",
       "<table border=\"1\" class=\"dataframe\">\n",
       "  <thead>\n",
       "    <tr style=\"text-align: right;\">\n",
       "      <th></th>\n",
       "      <th>Date</th>\n",
       "    </tr>\n",
       "  </thead>\n",
       "  <tbody>\n",
       "    <tr>\n",
       "      <th>0</th>\n",
       "      <td>2023-01-01</td>\n",
       "    </tr>\n",
       "    <tr>\n",
       "      <th>1</th>\n",
       "      <td>2023-01-02</td>\n",
       "    </tr>\n",
       "    <tr>\n",
       "      <th>2</th>\n",
       "      <td>2023-01-03</td>\n",
       "    </tr>\n",
       "    <tr>\n",
       "      <th>3</th>\n",
       "      <td>2023-01-04</td>\n",
       "    </tr>\n",
       "    <tr>\n",
       "      <th>4</th>\n",
       "      <td>2023-01-05</td>\n",
       "    </tr>\n",
       "    <tr>\n",
       "      <th>5</th>\n",
       "      <td>2023-01-06</td>\n",
       "    </tr>\n",
       "    <tr>\n",
       "      <th>6</th>\n",
       "      <td>2023-01-07</td>\n",
       "    </tr>\n",
       "    <tr>\n",
       "      <th>7</th>\n",
       "      <td>2023-01-08</td>\n",
       "    </tr>\n",
       "    <tr>\n",
       "      <th>8</th>\n",
       "      <td>2023-01-09</td>\n",
       "    </tr>\n",
       "    <tr>\n",
       "      <th>9</th>\n",
       "      <td>2023-01-10</td>\n",
       "    </tr>\n",
       "    <tr>\n",
       "      <th>10</th>\n",
       "      <td>2023-01-11</td>\n",
       "    </tr>\n",
       "    <tr>\n",
       "      <th>11</th>\n",
       "      <td>2023-01-12</td>\n",
       "    </tr>\n",
       "    <tr>\n",
       "      <th>12</th>\n",
       "      <td>2023-01-13</td>\n",
       "    </tr>\n",
       "    <tr>\n",
       "      <th>13</th>\n",
       "      <td>2023-01-14</td>\n",
       "    </tr>\n",
       "    <tr>\n",
       "      <th>14</th>\n",
       "      <td>2023-01-15</td>\n",
       "    </tr>\n",
       "    <tr>\n",
       "      <th>15</th>\n",
       "      <td>2023-01-16</td>\n",
       "    </tr>\n",
       "    <tr>\n",
       "      <th>16</th>\n",
       "      <td>2023-01-17</td>\n",
       "    </tr>\n",
       "    <tr>\n",
       "      <th>17</th>\n",
       "      <td>2023-01-18</td>\n",
       "    </tr>\n",
       "    <tr>\n",
       "      <th>18</th>\n",
       "      <td>2023-01-19</td>\n",
       "    </tr>\n",
       "    <tr>\n",
       "      <th>19</th>\n",
       "      <td>2023-01-20</td>\n",
       "    </tr>\n",
       "    <tr>\n",
       "      <th>20</th>\n",
       "      <td>2023-01-21</td>\n",
       "    </tr>\n",
       "    <tr>\n",
       "      <th>21</th>\n",
       "      <td>2023-01-22</td>\n",
       "    </tr>\n",
       "    <tr>\n",
       "      <th>22</th>\n",
       "      <td>2023-01-23</td>\n",
       "    </tr>\n",
       "    <tr>\n",
       "      <th>23</th>\n",
       "      <td>2023-01-24</td>\n",
       "    </tr>\n",
       "    <tr>\n",
       "      <th>24</th>\n",
       "      <td>2023-01-25</td>\n",
       "    </tr>\n",
       "    <tr>\n",
       "      <th>25</th>\n",
       "      <td>2023-01-26</td>\n",
       "    </tr>\n",
       "    <tr>\n",
       "      <th>26</th>\n",
       "      <td>2023-01-27</td>\n",
       "    </tr>\n",
       "    <tr>\n",
       "      <th>27</th>\n",
       "      <td>2023-01-28</td>\n",
       "    </tr>\n",
       "    <tr>\n",
       "      <th>28</th>\n",
       "      <td>2023-01-29</td>\n",
       "    </tr>\n",
       "    <tr>\n",
       "      <th>29</th>\n",
       "      <td>2023-01-30</td>\n",
       "    </tr>\n",
       "    <tr>\n",
       "      <th>30</th>\n",
       "      <td>2023-01-31</td>\n",
       "    </tr>\n",
       "  </tbody>\n",
       "</table>\n",
       "</div>"
      ],
      "text/plain": [
       "         Date\n",
       "0  2023-01-01\n",
       "1  2023-01-02\n",
       "2  2023-01-03\n",
       "3  2023-01-04\n",
       "4  2023-01-05\n",
       "5  2023-01-06\n",
       "6  2023-01-07\n",
       "7  2023-01-08\n",
       "8  2023-01-09\n",
       "9  2023-01-10\n",
       "10 2023-01-11\n",
       "11 2023-01-12\n",
       "12 2023-01-13\n",
       "13 2023-01-14\n",
       "14 2023-01-15\n",
       "15 2023-01-16\n",
       "16 2023-01-17\n",
       "17 2023-01-18\n",
       "18 2023-01-19\n",
       "19 2023-01-20\n",
       "20 2023-01-21\n",
       "21 2023-01-22\n",
       "22 2023-01-23\n",
       "23 2023-01-24\n",
       "24 2023-01-25\n",
       "25 2023-01-26\n",
       "26 2023-01-27\n",
       "27 2023-01-28\n",
       "28 2023-01-29\n",
       "29 2023-01-30\n",
       "30 2023-01-31"
      ]
     },
     "execution_count": 12,
     "metadata": {},
     "output_type": "execute_result"
    }
   ],
   "source": [
    "import pandas as pd\n",
    "dates = pd.date_range(start='2023-01-01', end='2023-02-05')\n",
    "df = pd.DataFrame({'Date': dates})\n",
    "df2 = df[(df['Date'] >= '2023-01-01') & (df['Date'] <= '2023-01-31')]\n",
    "df2"
   ]
  },
  {
   "cell_type": "markdown",
   "id": "4c044128-064c-4b12-bc5e-8ad7d10e3bb9",
   "metadata": {},
   "source": [
    "## Q13. To use the basic functions of pandas, what is the first and foremost necessary library that needs to be imported?"
   ]
  },
  {
   "cell_type": "markdown",
   "id": "e60ccaf4-b8a6-48a9-aeb7-a3794310c864",
   "metadata": {},
   "source": [
    "#### The first and foremost necessary library that needs to be imported to use the basic functions of pandas is pandas itself. It is conventionally imported using the following statement:\n",
    "\n",
    "#### import pandas as pd"
   ]
  },
  {
   "cell_type": "code",
   "execution_count": null,
   "id": "ba9286f8-8428-426f-8d21-c69fac94425e",
   "metadata": {},
   "outputs": [],
   "source": []
  }
 ],
 "metadata": {
  "kernelspec": {
   "display_name": "Python 3 (ipykernel)",
   "language": "python",
   "name": "python3"
  },
  "language_info": {
   "codemirror_mode": {
    "name": "ipython",
    "version": 3
   },
   "file_extension": ".py",
   "mimetype": "text/x-python",
   "name": "python",
   "nbconvert_exporter": "python",
   "pygments_lexer": "ipython3",
   "version": "3.10.8"
  }
 },
 "nbformat": 4,
 "nbformat_minor": 5
}
