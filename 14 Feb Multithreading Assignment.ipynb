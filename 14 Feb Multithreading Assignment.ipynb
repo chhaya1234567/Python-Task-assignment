{
 "cells": [
  {
   "cell_type": "markdown",
   "id": "67ceab41-89a7-46c0-ac5d-7643375a4a97",
   "metadata": {},
   "source": [
    "## Q1. what is multithreading in python? Why is it used? Name the module used to handle threads in python"
   ]
  },
  {
   "cell_type": "markdown",
   "id": "c51cfa35-4895-43a8-926c-f38d06b5183e",
   "metadata": {},
   "source": [
    "#### Multithreading in Python refers to the ability of a program to perform multiple threads of execution concurrently. In other words, it allows multiple parts of a program to run simultaneously, making it possible to perform multiple tasks at the same time. Multithreading is used in Python to improve the performance of a program that performs multiple tasks. Instead of waiting for a single task to complete before starting the next one, multiple tasks can be performed concurrently, reducing the overall time it takes to complete them.\n",
    "\n",
    "#### The primary advantage of multithreading is that it can significantly reduce the time required for a program to complete a set of tasks. It can also improve the responsiveness of a program by allowing it to continue processing user input while performing background tasks. The \"threading\" module is used to handle threads in Python. It provides a simple way to create and manage threads, allowing a program to perform multiple tasks simultaneously. The \"threading\" module can be used to create new threads, start them, and control their execution, including synchronization and communication between threads."
   ]
  },
  {
   "cell_type": "markdown",
   "id": "bc2ad4a9-2217-4c1d-a63b-55cc0d34c2b3",
   "metadata": {},
   "source": [
    "## Q2. Why threading module used? Write the use of the following functions\n",
    "## 1.activeCount()\n",
    "## 2.currentThread()\n",
    "## 3.enumerate()"
   ]
  },
  {
   "cell_type": "markdown",
   "id": "35559a9e-4b22-43e3-b5ef-c0f770889a7b",
   "metadata": {},
   "source": [
    "#### The threading module in Python is used to create and manage threads. It provides a high-level interface for creating new threads, starting them, and controlling their execution. The threading module is particularly useful for implementing multi-threaded programs where multiple tasks need to be performed simultaneously.\n",
    "#### Here are the use cases of the following functions in the threading module:\n",
    "#### activeCount(): This function returns the number of thread objects that are currently active and running. It can be used to monitor the number of active threads in a program and to ensure that the number of threads is within the desired range.\n",
    "#### currentThread(): This function returns a reference to the current thread object that is executing the Python code. It can be used to obtain information about the current thread, such as its name or thread ID, and to manipulate the thread object, such as setting its attributes or joining it with other threads.\n",
    "#### enumerate(): This function returns a list of all the thread objects that are currently active and running in the program. It can be used to monitor the status of all threads in a program and to perform operations on them, such as waiting for them to complete or terminating them. The enumerate() function can also be used to obtain information about each thread, such as its name or thread ID."
   ]
  },
  {
   "cell_type": "markdown",
   "id": "84a3dafe-9b3a-4f8e-a673-f8c610945076",
   "metadata": {},
   "source": [
    "## Q3. Explain the following functions\n",
    "## 1.run()\n",
    "## 2.start()\n",
    "## 3.join()\n",
    "## 4.isAlive()"
   ]
  },
  {
   "cell_type": "markdown",
   "id": "c7d62411-2886-4902-8d43-06169fb3ff59",
   "metadata": {},
   "source": [
    "#### The following are the explanations of the functions in the threading module:\n",
    "#### run(): This method is the entry point for the thread's activity. It is typically overridden in a subclass and contains the code that the thread will execute when started. When a new thread is created using the Thread class, the run() method is called implicitly when the thread is started using the start() method.\n",
    "#### start(): This method starts the thread's activity. It creates a new thread of execution and calls the run() method to start the thread's activity. The start() method should only be called once per thread object. If the start() method is called multiple times on the same thread object, a RuntimeError will be raised.\n",
    "#### join(): This method blocks the calling thread until the thread whose join() method is called completes or until the optional timeout period has passed. This method can be used to wait for a thread to complete its activity before continuing with the execution of the main program. The join() method is typically called after the start() method has been called on a thread object.\n",
    "#### isAlive(): This method returns a boolean value indicating whether the thread is currently active and running. It can be used to check the status of a thread and determine if it has completed its activity or is still running. The isAlive() method is typically called after the start() method has been called on a thread object. If the isAlive() method returns False, it means that the thread has completed its activity and has terminated."
   ]
  },
  {
   "cell_type": "markdown",
   "id": "da2169db-17cb-41f9-94f8-79fc2aed51ee",
   "metadata": {},
   "source": [
    "## Q4. Write a python program to create two threads. Thread one must print the list of squares and thread two must print the list of cubes"
   ]
  },
  {
   "cell_type": "code",
   "execution_count": 1,
   "id": "686df675-8433-40e5-a9e3-ff3c5bbc76b4",
   "metadata": {},
   "outputs": [
    {
     "name": "stdout",
     "output_type": "stream",
     "text": [
      "Square of 1 is 1\n",
      "Square of 2 is 4\n",
      "Square of 3 is 9\n",
      "Square of 4 is 16\n",
      "Square of 5 is 25\n",
      "Cube of 1 is 1\n",
      "Cube of 2 is 8\n",
      "Cube of 3 is 27\n",
      "Cube of 4 is 64\n",
      "Cube of 5 is 125\n"
     ]
    }
   ],
   "source": [
    "import threading\n",
    "\n",
    "def squares():\n",
    "    for i in range(1, 6):\n",
    "        print(f\"Square of {i} is {i*i}\")\n",
    "\n",
    "def cubes():\n",
    "    for i in range(1, 6):\n",
    "        print(f\"Cube of {i} is {i*i*i}\")\n",
    "\n",
    "t1 = threading.Thread(target=squares)\n",
    "t2 = threading.Thread(target=cubes)\n",
    "\n",
    "\n",
    "t1.start()\n",
    "t2.start()"
   ]
  },
  {
   "cell_type": "markdown",
   "id": "28e7d62e-f2f9-4f22-b4b2-563574eefc21",
   "metadata": {},
   "source": [
    "## Q5. State advantages and disadvantages of multithreading"
   ]
  },
  {
   "cell_type": "markdown",
   "id": "c37b2995-7455-431b-a690-ef1450ec7e05",
   "metadata": {},
   "source": [
    "### Advantages:\n",
    "####       .Improved Performance\n",
    "####       .Efficient use of resources\n",
    "####       .Responsiveness\n",
    "####       .Improved scalability\n",
    "### Disadvantages:\n",
    "####       .Increased complexity\n",
    "####       .Difficulty in programming\n",
    "####       .Resource competition\n",
    "####       .Overhead"
   ]
  },
  {
   "cell_type": "markdown",
   "id": "56ca413a-a5dd-4193-95ad-878bb567ba62",
   "metadata": {},
   "source": [
    "## Q6. Explain deadlocks and race conditions."
   ]
  },
  {
   "cell_type": "markdown",
   "id": "8b0db3e0-539b-4433-8a0d-1efa657c0312",
   "metadata": {},
   "source": [
    "#### *Deadlocks* : A deadlock occurs when two or more threads are blocked, each waiting for the other to release a resource that it holds. For example, Thread 1 might hold resource A and need resource B to proceed, while Thread 2 might hold resource B and need resource A to proceed. If neither thread releases its resource, both threads will be blocked, and the program will be stuck in a deadlock. Deadlocks are difficult to detect and resolve, and can cause the program to hang or crash.\n",
    "\n",
    "#### *Race Conditions* : A race condition occurs when two or more threads access a shared resource or variable simultaneously, and the final result depends on the order of execution of the threads. For example, Thread 1 and Thread 2 might both read the value of a shared variable, increment it, and write the new value back to the variable. If the two threads execute simultaneously, the final value of the variable will depend on the order in which the threads execute their instructions. This can lead to unpredictable and incorrect results, and can be difficult to debug.\n",
    "\n",
    " "
   ]
  },
  {
   "cell_type": "code",
   "execution_count": null,
   "id": "e7815eee-9291-497e-88e6-813b3da8e095",
   "metadata": {},
   "outputs": [],
   "source": []
  }
 ],
 "metadata": {
  "kernelspec": {
   "display_name": "Python 3 (ipykernel)",
   "language": "python",
   "name": "python3"
  },
  "language_info": {
   "codemirror_mode": {
    "name": "ipython",
    "version": 3
   },
   "file_extension": ".py",
   "mimetype": "text/x-python",
   "name": "python",
   "nbconvert_exporter": "python",
   "pygments_lexer": "ipython3",
   "version": "3.10.8"
  }
 },
 "nbformat": 4,
 "nbformat_minor": 5
}
