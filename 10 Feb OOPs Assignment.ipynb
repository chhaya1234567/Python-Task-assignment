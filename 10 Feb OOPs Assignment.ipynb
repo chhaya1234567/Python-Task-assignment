{
 "cells": [
  {
   "cell_type": "markdown",
   "id": "117ba085-59d0-4551-90ff-62227be18a82",
   "metadata": {},
   "source": [
    "## Q1. Which function is used to open a file? What are the different modes of opening a file? Explain each mode of file opening."
   ]
  },
  {
   "cell_type": "markdown",
   "id": "b520244e-8e9c-4735-8938-c4d6616b765a",
   "metadata": {},
   "source": [
    "#### The open() function is used to open a file in Python. It takes two arguments - the path to the file and the mode in which the file is to be opened.\n",
    "\n",
    "#### There are different modes of opening a file:\n",
    "\n",
    "#### *r*: This is the default mode for opening a file. It opens the file in read-only mode. The file pointer is placed at the beginning of the file. If the file does not exist, it raises a FileNotFoundError.\n",
    "\n",
    "#### *w*: This mode opens the file in write mode. If the file does not exist, it creates a new file. If the file already exists, it truncates the file i.e., deletes all the contents of the file. The file pointer is placed at the beginning of the file.\n",
    "\n",
    "#### *a*: This mode opens the file in append mode. If the file does not exist, it creates a new file. If the file already exists, it appends the new data to the end of the file. The file pointer is placed at the end of the file.\n",
    "\n",
    "#### *x*: This mode opens the file in exclusive creation mode. It creates a new file and opens it for writing. If the file already exists, it raises a FileExistsError.\n",
    "\n",
    "#### *b*: This mode is used for binary files. It is added to the mode string as rb, wb, ab, xb.\n",
    "\n",
    "#### *t*: This mode is used for text files. It is added to the mode string as rt, wt, at, xt."
   ]
  },
  {
   "cell_type": "markdown",
   "id": "6633b158-5cb7-4b81-9666-8e61aa697dac",
   "metadata": {},
   "source": [
    "#### Here's an example of opening a file in different modes:"
   ]
  },
  {
   "cell_type": "code",
   "execution_count": null,
   "id": "81a7da4a-f979-4824-8152-1fc3aa496705",
   "metadata": {},
   "outputs": [],
   "source": [
    "# Open a file in read-only mode\n",
    "file = open(\"file.txt\", \"r\")\n",
    "\n",
    "# Open a file in write mode\n",
    "file = open(\"file.txt\", \"w\")\n",
    "\n",
    "# Open a file in append mode\n",
    "file = open(\"file.txt\", \"a\")\n",
    "\n",
    "# Open a file in exclusive creation mode\n",
    "file = open(\"file.txt\", \"x\")\n"
   ]
  },
  {
   "cell_type": "markdown",
   "id": "09773e1c-bee2-4fb3-af86-d8a435e1d5aa",
   "metadata": {},
   "source": [
    "### *Note*-- It is important to close the file using the close() method after performing operations on the file."
   ]
  },
  {
   "cell_type": "markdown",
   "id": "8122d87f-dcc6-4aff-9ea8-06a5cad80f4d",
   "metadata": {},
   "source": [
    "## Q2. Why close() function is used? Why is it important to close a file?"
   ]
  },
  {
   "cell_type": "markdown",
   "id": "0ed8d8ef-2256-4976-8505-7b50eb11d3b6",
   "metadata": {},
   "source": [
    "#### The close() function is used to close a file that has been opened using the open() function in Python. It is important to close a file after you have finished using it, because:\n",
    "#### .It releases the resources (memory) that were occupied by the file object while it was open.\n",
    "#### .It ensures that any data that was in the buffer (i.e. waiting to be written to the file) is written to the file before it is closed. If you don't close the file, some of the data may not be written to the file.\n",
    "#### .If you don't close the file and try to open it again in another part of your program, you may get an error message that says \"File is already open\". This is because the file was not closed properly in the first place.\n",
    "##### Here's an example of how to open and close a file:"
   ]
  },
  {
   "cell_type": "code",
   "execution_count": null,
   "id": "f4110378-d921-49b6-938d-0645d291a1ab",
   "metadata": {},
   "outputs": [],
   "source": [
    "# Open a file in read mode\n",
    "file = open(\"file.txt\", \"r\")\n",
    "\n",
    "# Do some operations on the file\n",
    "data = file.read()\n",
    "print(data)\n",
    "\n",
    "# Close the file\n",
    "file.close()"
   ]
  },
  {
   "cell_type": "markdown",
   "id": "ed91cdee-e462-4e58-b863-35a5926fabc8",
   "metadata": {},
   "source": [
    "## Q3. Write a python program to create a text file. Write ‘I want to become a Data Scientist’ in that file. Then close the file. Open this file and read the content of the file."
   ]
  },
  {
   "cell_type": "markdown",
   "id": "41c16f87-6dc0-4f19-8396-f14f5e521693",
   "metadata": {},
   "source": [
    "#### Here's a Python program to create a text file, write a line of text to it, close the file, and then open it again to read the contents:"
   ]
  },
  {
   "cell_type": "code",
   "execution_count": 3,
   "id": "146a49cf-808c-4973-a194-cf947817084f",
   "metadata": {},
   "outputs": [
    {
     "name": "stdout",
     "output_type": "stream",
     "text": [
      "I want to become a Data Scientist\n"
     ]
    }
   ],
   "source": [
    "# Open a file in write mode\n",
    "file = open(\"sample.txt\", \"w\")\n",
    "\n",
    "# Write some text to the file\n",
    "file.write(\"I want to become a Data Scientist\")\n",
    "\n",
    "# Close the file\n",
    "file.close()\n",
    "\n",
    "# Open the file in read mode\n",
    "file = open(\"sample.txt\", \"r\")\n",
    "\n",
    "# Read the contents of the file\n",
    "content = file.read()\n",
    "\n",
    "# Print the contents of the file\n",
    "print(content)\n",
    "\n",
    "# Close the file\n",
    "file.close()\n"
   ]
  },
  {
   "cell_type": "markdown",
   "id": "902fb687-3016-46ee-b01a-b1f7daad00d9",
   "metadata": {},
   "source": [
    "## Q4. Explain the following with python code: read(), readline() and readlines()."
   ]
  },
  {
   "cell_type": "markdown",
   "id": "43c1d044-cd87-493f-99ec-1d3554a5df69",
   "metadata": {},
   "source": [
    "#### All three of these are methods for reading data from a file in Python.\n",
    "### *read()* method reads the entire content of a file and returns it as a string."
   ]
  },
  {
   "cell_type": "code",
   "execution_count": 6,
   "id": "445b655d-38a0-4eb4-9ff2-1b50f17bce9e",
   "metadata": {},
   "outputs": [
    {
     "name": "stdout",
     "output_type": "stream",
     "text": [
      "I want to become a Data Scientist\n"
     ]
    }
   ],
   "source": [
    "# Open a file in read mode\n",
    "file = open(\"sample.txt\", \"r\")\n",
    "\n",
    "# Read the entire content of the file\n",
    "content = file.read()\n",
    "\n",
    "# Print the contents of the file\n",
    "print(content)\n",
    "\n",
    "# Close the file\n",
    "file.close()\n"
   ]
  },
  {
   "cell_type": "markdown",
   "id": "bcdce15e-c1bb-4c29-bfd0-1b07103cf64c",
   "metadata": {},
   "source": [
    "#### *readline()* method reads a single line from a file and returns it as a string."
   ]
  },
  {
   "cell_type": "code",
   "execution_count": 5,
   "id": "bb6b35ca-88b2-4332-908e-18bd3ae73def",
   "metadata": {},
   "outputs": [
    {
     "name": "stdout",
     "output_type": "stream",
     "text": [
      "I want to become a Data Scientist\n"
     ]
    }
   ],
   "source": [
    "# Open a file in read mode\n",
    "file = open(\"sample.txt\", \"r\")\n",
    "\n",
    "# Read the first line of the file\n",
    "line = file.readline()\n",
    "\n",
    "# Print the line\n",
    "print(line)\n",
    "\n",
    "# Close the file\n",
    "file.close()\n"
   ]
  },
  {
   "cell_type": "markdown",
   "id": "4290ddd0-d26f-49bc-b622-3143d6d3dd3b",
   "metadata": {},
   "source": [
    "#### *readlines()* method reads all the lines from a file and returns them as a list of strings."
   ]
  },
  {
   "cell_type": "code",
   "execution_count": 4,
   "id": "7d9500c8-a336-4ac2-b85b-92b329ad2875",
   "metadata": {},
   "outputs": [
    {
     "name": "stdout",
     "output_type": "stream",
     "text": [
      "I want to become a Data Scientist\n"
     ]
    }
   ],
   "source": [
    "# Open a file in read mode\n",
    "file = open(\"sample.txt\", \"r\")\n",
    "\n",
    "# Read all the lines of the file\n",
    "lines = file.readlines()\n",
    "\n",
    "# Print the lines\n",
    "for line in lines:\n",
    "    print(line)\n",
    "\n",
    "# Close the file\n",
    "file.close()\n"
   ]
  },
  {
   "cell_type": "markdown",
   "id": "d8f9914a-8433-4796-99e4-d78cc3fec3ba",
   "metadata": {},
   "source": [
    "## Q5. Explain why with statement is used with open(). What is the advantage of using with statement and open() together?"
   ]
  },
  {
   "cell_type": "markdown",
   "id": "391a2960-dc71-448d-a488-41886bad0bb6",
   "metadata": {},
   "source": [
    "#### In Python, the with statement is used to open and manipulate a file. It is used in conjunction with the open() function to ensure that a file is properly opened and closed, even if an error occurs during the execution of the program.\n",
    "#### The with statement has several advantages over manually opening and closing a file. First, it ensures that the file is properly closed even if an error occurs during the execution of the program. This helps to prevent data loss or corruption. Second, it simplifies the code by eliminating the need to explicitly call the close() method on the file object. Finally, it improves readability by making it clear that a file is being opened and closed within a specific block of code.\n",
    "##### Here is an example of how to use the with statement and open() function together:"
   ]
  },
  {
   "cell_type": "code",
   "execution_count": null,
   "id": "b310e5e2-2c57-41a6-a8c0-70fea09c2df9",
   "metadata": {},
   "outputs": [],
   "source": [
    "with open(\"example.txt\", \"r\") as file:\n",
    "    data = file.read()\n",
    "    print(data)\n"
   ]
  },
  {
   "cell_type": "markdown",
   "id": "68fdc67d-ead0-40b5-a23e-cf9306dc035f",
   "metadata": {},
   "source": [
    "## Q6. Explain the write() and writelines() functions. Give a suitable example."
   ]
  },
  {
   "cell_type": "markdown",
   "id": "54b251e2-746c-4abf-9782-bbb760e292bc",
   "metadata": {},
   "source": [
    "#### In Python, write() and writelines() are functions used for writing data to a file.\n",
    "#### The *write()* function writes a single string to a file, while the *writelines()* function writes a list of strings to a file.\n",
    "#### Here is an example of how to use the write() function to write a string to a file:"
   ]
  },
  {
   "cell_type": "code",
   "execution_count": null,
   "id": "71027f9e-f4eb-46e7-99f3-fd6e3d2bd46d",
   "metadata": {},
   "outputs": [],
   "source": [
    "# Open a file in write mode\n",
    "file = open(\"example.txt\", \"w\")\n",
    "\n",
    "# Write a string to the file\n",
    "file.write(\"This is an example file.\")\n",
    "\n",
    "# Close the file\n",
    "file.close()\n"
   ]
  },
  {
   "cell_type": "markdown",
   "id": "79d63317-b0e4-41c4-8020-99b335b88def",
   "metadata": {},
   "source": [
    "#### Here is an example of how to use the writelines() function to write a list of strings to a file:"
   ]
  },
  {
   "cell_type": "code",
   "execution_count": 13,
   "id": "5c8482ec-acf3-4c67-bbaa-8bcbc0eed0b7",
   "metadata": {},
   "outputs": [],
   "source": [
    "# Open a file in write mode\n",
    "file = open(\"example.txt\", \"w\")\n",
    "\n",
    "# Write a list of strings to the file\n",
    "lines = [\"This is line 1.\\n\", \"This is line 2.\\n\", \"This is line 3.\\n\"]\n",
    "file.writelines(lines)\n",
    "# Close the file\n",
    "file.close()"
   ]
  },
  {
   "cell_type": "code",
   "execution_count": null,
   "id": "575ace1e-387c-4ac5-8246-b0005af472d1",
   "metadata": {},
   "outputs": [],
   "source": []
  },
  {
   "cell_type": "code",
   "execution_count": null,
   "id": "1c81c403-6182-4759-97b9-b8743a1f1ebd",
   "metadata": {},
   "outputs": [],
   "source": []
  }
 ],
 "metadata": {
  "kernelspec": {
   "display_name": "Python 3 (ipykernel)",
   "language": "python",
   "name": "python3"
  },
  "language_info": {
   "codemirror_mode": {
    "name": "ipython",
    "version": 3
   },
   "file_extension": ".py",
   "mimetype": "text/x-python",
   "name": "python",
   "nbconvert_exporter": "python",
   "pygments_lexer": "ipython3",
   "version": "3.10.8"
  }
 },
 "nbformat": 4,
 "nbformat_minor": 5
}
