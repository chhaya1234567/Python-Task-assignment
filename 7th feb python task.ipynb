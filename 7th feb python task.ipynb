{
 "cells": [
  {
   "cell_type": "markdown",
   "id": "8a09a125-37a9-4ad5-9ce8-1803e5e5888d",
   "metadata": {},
   "source": [
    "## Q1. You are writing code for a company. The requirement of the company is that you create a python function that will check whether the password entered by the user is correct or not. The function should take the password as input and return the string “Valid Password” if the entered password follows the below-given password guidelines else it should return “Invalid Password”.\n",
    "## Note: 1. The Password should contain at least two uppercase letters and at least two lowercase letters.\n",
    "## 2. The Password should contain at least a number and three special characters.\n",
    "## 3. The length of the password should be 10 characters long."
   ]
  },
  {
   "cell_type": "code",
   "execution_count": null,
   "id": "5e8768bd-38f5-4ed0-b338-48e24281b469",
   "metadata": {},
   "outputs": [],
   "source": [
    "import re\n",
    "\n",
    "def check_password(password):\n",
    "    # Check length of password\n",
    "    if len(password) != 10:\n",
    "        return \"Invalid Password\"\n",
    "    # Check number of uppercase and lowercase letters\n",
    "    if sum(1 for c in password if c.isupper()) < 2 or sum(1 for c in password if c.islower()) < 2:\n",
    "        return \"Invalid Password\"\n",
    "    # Check for a number and three special characters\n",
    "    if not re.search(r'\\d', password) or len(re.findall(r'[^\\w\\s]', password)) < 3:\n",
    "        return \"Invalid Password\"\n",
    "    # Password meets all criteria\n",
    "    return \"Valid Password\"\n",
    "password1 = \"Abc123@!#$\"\n",
    "password2 = \"abc123@!#$\"\n",
    "print(check_password(password1)) # output: \"Valid Password\"\n",
    "print(check_password(password2)) #  output: \"Invalid Password\""
   ]
  },
  {
   "cell_type": "markdown",
   "id": "8f585948-e221-478d-a456-d011db524366",
   "metadata": {},
   "source": [
    "## Q2. Solve the below-given questions using at least one of the following:\n",
    "## 1. Lambda function\n",
    "## 2. Filter function\n",
    "## 3. Zap function\n",
    "## 4. List Comprehension\n",
    "### . Check if the string starts with a particular letter\n",
    "### .Check if the string is numeric\n",
    "### .Sort a list of tuples having fruit names and their quantity. [(\"mango\",99),(\"orange\",80), (\"grapes\", 1000)]\n",
    "### .Find the squares of numbers from 1 to 10\n",
    "### .Find the cube root of numbers from 1 to 10\n",
    "### .Check if a given number is even\n",
    "### .Filter odd numbers from the given list.[1,2,3,4,5,6,7,8,9,10]\n",
    "### .Sort a list of integers into positive and negative integers lists.[1,2,3,4,5,6,-1,-2,-3,-4,-5,0]"
   ]
  },
  {
   "cell_type": "code",
   "execution_count": 4,
   "id": "1ed2a074-33f5-49db-9302-0617cb183308",
   "metadata": {},
   "outputs": [
    {
     "name": "stdout",
     "output_type": "stream",
     "text": [
      "['apple']\n"
     ]
    }
   ],
   "source": [
    "# Using list comprehension:\n",
    "strings = [\"apple\", \"banana\", \"cherry\", \"orange\"]\n",
    "letter = \"a\"\n",
    "\n",
    "result = [s for s in strings if s.startswith(letter)]\n",
    "print(result) # Output: ['apple']\n"
   ]
  },
  {
   "cell_type": "code",
   "execution_count": 5,
   "id": "5dea48ed-324a-4162-a331-d01b68ef7b16",
   "metadata": {},
   "outputs": [
    {
     "name": "stdout",
     "output_type": "stream",
     "text": [
      "['apple']\n"
     ]
    }
   ],
   "source": [
    "# Using filter function:\n",
    "strings = [\"apple\", \"banana\", \"cherry\", \"orange\"]\n",
    "letter = \"a\"\n",
    "\n",
    "result = list(filter(lambda s: s.startswith(letter), strings))\n",
    "print(result) # Output: ['apple']\n"
   ]
  },
  {
   "cell_type": "code",
   "execution_count": 6,
   "id": "704cf13b-ae95-40e7-b23e-c2a0aabd1e41",
   "metadata": {},
   "outputs": [
    {
     "name": "stdout",
     "output_type": "stream",
     "text": [
      "True\n"
     ]
    }
   ],
   "source": [
    "# Check if the string is numeric:\n",
    "## Using lambda function:\n",
    "string = \"1234\"\n",
    "\n",
    "result = lambda s: s.isnumeric()\n",
    "print(result(string)) # Output: True\n"
   ]
  },
  {
   "cell_type": "code",
   "execution_count": 7,
   "id": "1345754f-9496-4211-9f04-3468204be804",
   "metadata": {},
   "outputs": [
    {
     "name": "stdout",
     "output_type": "stream",
     "text": [
      "['1', '2', '3', '4']\n"
     ]
    }
   ],
   "source": [
    "# Using filter function:\n",
    "string = \"1234\"\n",
    "\n",
    "result = list(filter(lambda s: s.isnumeric(), string))\n",
    "print(result) # Output: ['1', '2', '3', '4']\n"
   ]
  },
  {
   "cell_type": "code",
   "execution_count": 8,
   "id": "9ada73d8-e1a0-42b8-b414-2d1072b2b214",
   "metadata": {},
   "outputs": [
    {
     "name": "stdout",
     "output_type": "stream",
     "text": [
      "[('orange', 80), ('mango', 99), ('grapes', 1000)]\n"
     ]
    }
   ],
   "source": [
    "## Sort a list of tuples having fruit names and their quantity. [(\"mango\",99),(\"orange\",80), (\"grapes\", 1000)]\n",
    "### Using lambda function:\n",
    "fruits = [(\"mango\", 99), (\"orange\", 80), (\"grapes\", 1000)]\n",
    "\n",
    "result = sorted(fruits, key=lambda x: x[1])\n",
    "print(result) # Output: [('orange', 80), ('mango', 99), ('grapes', 1000)]\n"
   ]
  },
  {
   "cell_type": "code",
   "execution_count": 9,
   "id": "4e768dcf-1f89-4a27-87df-65a69760ba69",
   "metadata": {},
   "outputs": [
    {
     "name": "stdout",
     "output_type": "stream",
     "text": [
      "[1, 4, 9, 16, 25, 36, 49, 64, 81, 100]\n"
     ]
    }
   ],
   "source": [
    "# Find the squares of numbers from 1 to 10:\n",
    "## Using map function:\n",
    "result = list(map(lambda x: x ** 2, range(1, 11)))\n",
    "print(result) # Output: [1, 4, 9, 16, 25, 36, 49, 64, 81, 100]\n"
   ]
  },
  {
   "cell_type": "code",
   "execution_count": 10,
   "id": "142ea50c-8c42-4b47-ad3f-53b1121f37ee",
   "metadata": {},
   "outputs": [
    {
     "name": "stdout",
     "output_type": "stream",
     "text": [
      "[1.0, 1.2599210498948732, 1.4422495703074083, 1.5874010519681994, 1.7099759466766968, 1.8171205928321397, 1.912931182772389, 2.0, 2.080083823051904, 2.154434690031884]\n"
     ]
    }
   ],
   "source": [
    "## Find the cube root of numbers from 1 to 10:\n",
    "### Using list comprehension:\n",
    "result = [x ** (1/3) for x in range(1, 11)]\n",
    "print(result) # Output: [1.0, 1.2599210498948732, 1.4422495703074083, 1.5874010519681994, 1.7099759466766968, 1.8171205928321397, 1.912931182772389, 2.0, 2.080083823051904, 2.154434690031884]\n"
   ]
  },
  {
   "cell_type": "code",
   "execution_count": 11,
   "id": "e12b1b96-383e-4f67-9b6c-941f64b8c3e3",
   "metadata": {},
   "outputs": [
    {
     "name": "stdout",
     "output_type": "stream",
     "text": [
      "True\n"
     ]
    }
   ],
   "source": [
    "## Check if a given number is even\n",
    "number = 4\n",
    "result = (lambda x: x % 2 == 0)(number)\n",
    "print(result)"
   ]
  },
  {
   "cell_type": "code",
   "execution_count": 12,
   "id": "cced2722-d1b7-4f03-b8e5-0295b90a356c",
   "metadata": {},
   "outputs": [
    {
     "name": "stdout",
     "output_type": "stream",
     "text": [
      "[1, 3, 5, 7, 9]\n"
     ]
    }
   ],
   "source": [
    "## Filter odd numbers from the given list. [1,2,3,4,5,6,7,8,9,10]\n",
    "numbers = [1, 2, 3, 4, 5, 6, 7, 8, 9, 10]\n",
    "result = [x for x in numbers if x % 2 != 0]\n",
    "print(result)"
   ]
  },
  {
   "cell_type": "code",
   "execution_count": 13,
   "id": "e095279f-7e07-478f-a0b4-e541737f78d1",
   "metadata": {},
   "outputs": [
    {
     "name": "stdout",
     "output_type": "stream",
     "text": [
      "[1, 2, 3, 4, 5, 6]\n",
      "[-1, -2, -3, -4, -5]\n"
     ]
    }
   ],
   "source": [
    "## Sort a list of integers into positive and negative integers lists. [1,2,3,4,5,6,-1,-2,-3,-4,-5,0]\n",
    "numbers = [1, 2, 3, 4, 5, 6, -1, -2, -3, -4, -5, 0]\n",
    "positive = [x for x in numbers if x > 0]\n",
    "negative = [x for x in numbers if x < 0]\n",
    "print(positive)\n",
    "print(negative)"
   ]
  },
  {
   "cell_type": "code",
   "execution_count": null,
   "id": "9b2af9d3-0954-45d0-a001-ee1d3b631099",
   "metadata": {},
   "outputs": [],
   "source": []
  }
 ],
 "metadata": {
  "kernelspec": {
   "display_name": "Python 3 (ipykernel)",
   "language": "python",
   "name": "python3"
  },
  "language_info": {
   "codemirror_mode": {
    "name": "ipython",
    "version": 3
   },
   "file_extension": ".py",
   "mimetype": "text/x-python",
   "name": "python",
   "nbconvert_exporter": "python",
   "pygments_lexer": "ipython3",
   "version": "3.10.8"
  }
 },
 "nbformat": 4,
 "nbformat_minor": 5
}
