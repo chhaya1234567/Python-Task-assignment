{
 "cells": [
  {
   "cell_type": "markdown",
   "id": "0fa16c1d-b14d-48e8-aab0-137205a2f94b",
   "metadata": {},
   "source": [
    "## Q1. Create a Pandas Series that contains the following data: 4, 8, 15, 16, 23, and 42. Then, print the series."
   ]
  },
  {
   "cell_type": "code",
   "execution_count": 1,
   "id": "9749f390-81f1-42ee-a776-82e00b310fe3",
   "metadata": {},
   "outputs": [
    {
     "name": "stdout",
     "output_type": "stream",
     "text": [
      "0     4\n",
      "1     8\n",
      "2    15\n",
      "3    16\n",
      "4    23\n",
      "5    42\n",
      "dtype: int64\n"
     ]
    }
   ],
   "source": [
    "import pandas as pd\n",
    "\n",
    "data = [4, 8, 15, 16, 23, 42]\n",
    "series = pd.Series(data)\n",
    "\n",
    "print(series)\n"
   ]
  },
  {
   "cell_type": "markdown",
   "id": "c1989800-0b70-461e-99f9-199ee7e28ba0",
   "metadata": {},
   "source": [
    "## Q2. Create a variable of list type containing 10 elements in it, and apply pandas.Series function on the variable print it."
   ]
  },
  {
   "cell_type": "code",
   "execution_count": 2,
   "id": "fa05342e-0f61-48ed-8fc9-70dfc95c9911",
   "metadata": {},
   "outputs": [
    {
     "name": "stdout",
     "output_type": "stream",
     "text": [
      "0     10\n",
      "1     20\n",
      "2     30\n",
      "3     40\n",
      "4     50\n",
      "5     60\n",
      "6     70\n",
      "7     80\n",
      "8     90\n",
      "9    100\n",
      "dtype: int64\n"
     ]
    }
   ],
   "source": [
    "import pandas as pd\n",
    "\n",
    "my_list = [10, 20, 30, 40, 50, 60, 70, 80, 90, 100]\n",
    "my_series = pd.Series(my_list)\n",
    "\n",
    "print(my_series)\n"
   ]
  },
  {
   "cell_type": "markdown",
   "id": "63d04dd8-e6b5-4cf7-a59b-dd7b0a8dfaf3",
   "metadata": {},
   "source": [
    "## Q3. Create a Pandas DataFrame that contains the following data:"
   ]
  },
  {
   "attachments": {
    "decf831f-2f89-4e8a-90f8-58998b39f5cb.png": {
     "image/png": "[encoded data removed]"
    }
   },
   "cell_type": "markdown",
   "id": "a9958d98-d351-4365-bfe9-78f3742c7110",
   "metadata": {},
   "source": [
    "  ![image.png](attachment:decf831f-2f89-4e8a-90f8-58998b39f5cb.png)"
   ]
  },
  {
   "cell_type": "code",
   "execution_count": 10,
   "id": "a0f3ef03-295d-4694-bf69-e044c1b43ee1",
   "metadata": {},
   "outputs": [
    {
     "name": "stdout",
     "output_type": "stream",
     "text": [
      "     Name  Age  Gender\n",
      "0   Alice   25  Female\n",
      "1     Bob   30    Male\n",
      "2  Claire   27  Female\n"
     ]
    }
   ],
   "source": [
    "import pandas as pd\n",
    "\n",
    "data = {'Name': ['Alice', 'Bob', 'Claire'],\n",
    "        'Age': [25, 30, 27],\n",
    "        'Gender': ['Female', 'Male', 'Female']}\n",
    "\n",
    "df = pd.DataFrame(data)\n",
    "\n",
    "print(df)\n"
   ]
  },
  {
   "cell_type": "markdown",
   "id": "15b5252a-bf52-4cf0-963e-8dd24fee8686",
   "metadata": {},
   "source": [
    "## Q4. What is ‘DataFrame’ in pandas and how is it different from pandas.series? Explain with an example."
   ]
  },
  {
   "cell_type": "markdown",
   "id": "09f62d23-92f8-468e-8716-abe73c7c071a",
   "metadata": {},
   "source": [
    "#### In Pandas, a DataFrame is a two-dimensional labeled data structure that can store data of different types in columns. It is similar to a spreadsheet or SQL table, where each column can have a different data type (e.g., integer, float, string) and can be named. Each row in a DataFrame represents an observation or a record, and each column represents a variable or a feature.\n",
    "\n",
    "#### On the other hand, a Series is a one-dimensional labeled array that can store data of a single data type, such as integers, floats, or strings. A Series is like a single column of a DataFrame, with a single index and a single data type.\n",
    "\n",
    "#### Here's an example to illustrate the difference between a DataFrame and a Series:"
   ]
  },
  {
   "cell_type": "code",
   "execution_count": 8,
   "id": "9aceb6a5-f850-4abe-ad33-2be5b4e96138",
   "metadata": {},
   "outputs": [
    {
     "name": "stdout",
     "output_type": "stream",
     "text": [
      "0    10\n",
      "1    20\n",
      "2    30\n",
      "3    40\n",
      "4    50\n",
      "Name: Numbers, dtype: int64\n",
      "    Name  Age  Gender\n",
      "0  Heena   25  Female\n",
      "1  Rahul   30    Male\n",
      "2  Meena   27  Female\n"
     ]
    }
   ],
   "source": [
    "import pandas as pd\n",
    "\n",
    "# create a Series\n",
    "ser = pd.Series([10, 20, 30, 40, 50], name='Numbers')\n",
    "print(ser)\n",
    "\n",
    "# create a DataFrame\n",
    "df = pd.DataFrame({'Name': ['Heena', 'Rahul', 'Meena'], \n",
    "                   'Age': [25, 30, 27],\n",
    "                   'Gender': ['Female', 'Male', 'Female']})\n",
    "print(df)\n"
   ]
  },
  {
   "cell_type": "markdown",
   "id": "6c385a56-32b3-4818-914f-68f0944c609c",
   "metadata": {},
   "source": [
    "## Q5. What are some common functions you can use to manipulate data in a Pandas DataFrame? Can you give an example of when you might use one of these functions?"
   ]
  },
  {
   "cell_type": "markdown",
   "id": "85320464-57a9-4536-9c6d-66032e412887",
   "metadata": {},
   "source": [
    "#### There are many functions available in Pandas that can be used to manipulate data in a DataFrame. Here are some common functions:\n",
    "\n",
    "#### **head(n) and tail(n)**: These functions can be used to view the first n rows or last n rows of a DataFrame, respectively. They are useful to quickly inspect the structure of a DataFrame or to get a glimpse of the data.\n",
    "\n",
    "#### **info()**: This function can be used to display a summary of the DataFrame's structure, including the number of rows, the number of non-null values per column, and the data type of each column.\n",
    "\n",
    "#### ****describe()**: This function can be used to generate descriptive statistics of the DataFrame, such as the count, mean, standard deviation, minimum, maximum, and quartiles of each numeric column.\n",
    "\n",
    "#### **sort_values()**: This function can be used to sort the DataFrame by one or more columns in ascending or descending order. It is useful to order the data according to a specific criterion, such as the alphabetical order of names or the ascending order of dates.\n",
    "#### **groupby()**: This function can be used to group the DataFrame by one or more columns and apply a function to each group, such as the sum, mean, or count of each group. It is useful to analyze the data by categories, such as the total sales per region or the average rating per genre.\n",
    "\n",
    "#### **pivot_table()**: This function can be used to create a pivot table from the DataFrame, which is a table that summarizes the data by aggregating the values of one or more columns according to two or more dimensions. It is useful to compare the data by multiple criteria, such as the total sales per region and per year.\n",
    "\n",
    "#### Here's an example by using one of these functions. Suppose you have a DataFrame called sales that contains the sales data of a company, including the date of the sale, the name of the product, the quantity sold, and the revenue generated. You want to analyze the sales by product and by month, and compute the total revenue and the average quantity sold for each combination of product and month. You can achieve this with the following code:"
   ]
  },
  {
   "cell_type": "code",
   "execution_count": null,
   "id": "4c0fea90-fe04-4593-ad39-1f9df615acf9",
   "metadata": {},
   "outputs": [],
   "source": [
    "import pandas as pd\n",
    "\n",
    "# read the sales data from a CSV file\n",
    "sales = pd.read_csv('sales.csv')\n",
    "\n",
    "# extract the month from the date column\n",
    "sales['Month'] = pd.to_datetime(sales['Date']).dt.month_name()\n",
    "\n",
    "# group the sales by product and month, and compute the total revenue and average quantity\n",
    "summary = sales.groupby(['Product', 'Month']).agg({'Revenue': 'sum', 'Quantity': 'mean'})\n",
    "\n",
    "# display the summary\n",
    "print(summary)\n"
   ]
  },
  {
   "cell_type": "markdown",
   "id": "410c2c09-935f-4703-9f1c-05fee7f0b0a5",
   "metadata": {},
   "source": [
    "## Q6. Which of the following is mutable in nature Series, DataFrame, Panel?"
   ]
  },
  {
   "cell_type": "markdown",
   "id": "46975459-5727-452e-8bb8-0162ad42b851",
   "metadata": {},
   "source": [
    "#### In Pandas, both Series and DataFrame are mutable in nature, meaning that their contents can be modified after creation. However, Panel is not mutable and is considered deprecated in the latest version of Pandas (1.2.0), which recommends the use of MultiIndex DataFrame instead."
   ]
  },
  {
   "cell_type": "markdown",
   "id": "c9899783-68ae-459e-a3e9-8b902896ce4a",
   "metadata": {},
   "source": [
    "## Q7. Create a DataFrame using multiple Series. Explain with an example."
   ]
  },
  {
   "cell_type": "markdown",
   "id": "64c4e84c-b3b5-4962-9f2d-548d9a92690c",
   "metadata": {},
   "source": [
    "#### To create a DataFrame using multiple Series, we can first create the individual Series and then combine them into a single DataFrame using the pd.concat() function.\n",
    "\n",
    "#### Here's an example:"
   ]
  },
  {
   "cell_type": "code",
   "execution_count": 7,
   "id": "fa439c6c-64f4-41e1-9453-b6b452e378b1",
   "metadata": {},
   "outputs": [
    {
     "name": "stdout",
     "output_type": "stream",
     "text": [
      "    Name  Age  Gender\n",
      "0  Heena   25  Female\n",
      "1  Rahul   30    Male\n",
      "2  Meena   27  Female\n"
     ]
    }
   ],
   "source": [
    "import pandas as pd\n",
    "\n",
    "# Create the Name Series\n",
    "names = pd.Series(['Heena', 'Rahul', 'Meena'])\n",
    "\n",
    "# Create the Age Series\n",
    "ages = pd.Series([25, 30, 27])\n",
    "\n",
    "# Create the Gender Series\n",
    "genders = pd.Series(['Female', 'Male', 'Female'])\n",
    "\n",
    "# Combine the Series into a DataFrame\n",
    "df = pd.concat([names, ages, genders], axis=1)\n",
    "df.columns = ['Name', 'Age', 'Gender']\n",
    "\n",
    "# Print the DataFrame\n",
    "print(df)\n"
   ]
  },
  {
   "cell_type": "code",
   "execution_count": null,
   "id": "3adc8452-ca7e-47de-b001-7eef71605e2c",
   "metadata": {},
   "outputs": [],
   "source": []
  }
 ],
 "metadata": {
  "kernelspec": {
   "display_name": "Python 3 (ipykernel)",
   "language": "python",
   "name": "python3"
  },
  "language_info": {
   "codemirror_mode": {
    "name": "ipython",
    "version": 3
   },
   "file_extension": ".py",
   "mimetype": "text/x-python",
   "name": "python",
   "nbconvert_exporter": "python",
   "pygments_lexer": "ipython3",
   "version": "3.10.8"
  }
 },
 "nbformat": 4,
 "nbformat_minor": 5
}
