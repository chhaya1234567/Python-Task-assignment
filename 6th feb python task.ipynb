{
 "cells": [
  {
   "cell_type": "markdown",
   "id": "36fe023f-00c2-4804-9a95-61d3877d91e3",
   "metadata": {},
   "source": [
    "## Q1. Create a function which will take a list as an argument and return the product of all the numbers after creating a flat list.\n",
    "## Use the below-given list as an argument for your function.\n",
    "## list1 = [1,2,3,4, [44,55,66, True], False, (34,56,78,89,34), {1,2,3,3,2,1}, {1:34, \"key2\": [55, 67, 78, 89], 4: (45, 22, 61, 34)}, [56, 'data science'], 'Machine Learning']\n",
    "## Note: you must extract numeric keys and values of the dictionary also."
   ]
  },
  {
   "cell_type": "markdown",
   "id": "9773b848-ebf0-408d-b8e8-8249852815ff",
   "metadata": {},
   "source": [
    "### Here's a Python function that takes a list as an argument and returns the product of all the numbers after creating a flat list:"
   ]
  },
  {
   "cell_type": "code",
   "execution_count": 5,
   "id": "23859b04-3910-406c-a142-0205c4c0ee2d",
   "metadata": {},
   "outputs": [
    {
     "name": "stdout",
     "output_type": "stream",
     "text": [
      "The product of all the numbers in the list is: 335621713680284480844595200\n"
     ]
    }
   ],
   "source": [
    "def calculate_product(lst):\n",
    "    flat_list = []\n",
    "\n",
    "    # Flatten the list\n",
    "    for item in lst:\n",
    "        if type(item) == list or type(item) == tuple:\n",
    "            flat_list.extend(item)\n",
    "        elif type(item) == dict:\n",
    "            for key, value in item.items():\n",
    "                if type(key) == int or type(value) == int:\n",
    "                    flat_list.append(key)\n",
    "                    flat_list.append(value)\n",
    "                elif type(value) == list or type(value) == tuple:\n",
    "                    flat_list.extend(value)\n",
    "        elif type(item) == int:\n",
    "            flat_list.append(item)\n",
    "\n",
    "    # Calculate the product of all the numbers\n",
    "    product = 1\n",
    "    for item in flat_list:\n",
    "        if type(item) == int:\n",
    "            product *= item\n",
    "    \n",
    "    return product\n",
    "\n",
    "list1 = [1,2,3,4, [44,55,66, True], False, (34,56,78,89,34), {1,2,3,3,2,1}, {1:34, \"key2\": [55, 67, 78, 89], 4: (45, 22, 61, 34)}, [56, 'data science'], 'Machine Learning']\n",
    "result = calculate_product(list1)\n",
    "print(\"The product of all the numbers in the list is:\", result)"
   ]
  },
  {
   "cell_type": "markdown",
   "id": "da4de239-92f7-46ea-b748-8f431f3d0927",
   "metadata": {},
   "source": [
    "## Q2. Write a python program for encrypting a message sent to you by your friend. The logic of encryptionshould be such that, for a the output should be z. For b, the output should be y. For c, the output should be x respectively. Also, the whitespace should be replaced with a dollar sign. Keep the punctuation marks unchanged.\n",
    "## Input Sentence: I want to become a Data Scientist.\n",
    "## Encrypt the above input sentence using the program you just created.\n",
    "## Note: Convert the given input sentence into lowercase before encrypting. The final output should be lowercase."
   ]
  },
  {
   "cell_type": "markdown",
   "id": "bde240b1-46e7-4a66-8f2d-b01c93f3b42a",
   "metadata": {},
   "source": [
    "#### Here's a Python program that can encrypt a message as per the given logic:"
   ]
  },
  {
   "cell_type": "code",
   "execution_count": 7,
   "id": "664e0217-d3a4-4699-8b54-fbbe1893e2c7",
   "metadata": {},
   "outputs": [
    {
     "name": "stdout",
     "output_type": "stream",
     "text": [
      "r$dzmg$gl$yvxlnv$z$wzgz$hxrvmgrhg.\n"
     ]
    }
   ],
   "source": [
    "def encrypt_message(message):\n",
    "    # Convert message to lowercase\n",
    "    message = message.lower()\n",
    "    # Create a dictionary to store the mapping between characters\n",
    "    mapping = {chr(i): chr(219-i) for i in range(97, 123)}\n",
    "    # Replace whitespace with a dollar sign\n",
    "    mapping[' '] = '$'\n",
    "    # Encrypt the message using the mapping\n",
    "    encrypted_message = ''\n",
    "    for char in message:\n",
    "        if char in mapping:\n",
    "            encrypted_message += mapping[char]\n",
    "        else:\n",
    "            encrypted_message += char\n",
    "    return encrypted_message\n",
    "\n",
    "# Example usage:\n",
    "input_sentence = 'I want to become a Data Scientist.'\n",
    "encrypted_sentence = encrypt_message(input_sentence)\n",
    "print(encrypted_sentence)\n",
    "\n"
   ]
  },
  {
   "cell_type": "code",
   "execution_count": null,
   "id": "6ee06c0d-43c4-4661-a05d-c312f52b647c",
   "metadata": {},
   "outputs": [],
   "source": []
  }
 ],
 "metadata": {
  "kernelspec": {
   "display_name": "Python 3 (ipykernel)",
   "language": "python",
   "name": "python3"
  },
  "language_info": {
   "codemirror_mode": {
    "name": "ipython",
    "version": 3
   },
   "file_extension": ".py",
   "mimetype": "text/x-python",
   "name": "python",
   "nbconvert_exporter": "python",
   "pygments_lexer": "ipython3",
   "version": "3.10.8"
  }
 },
 "nbformat": 4,
 "nbformat_minor": 5
}
