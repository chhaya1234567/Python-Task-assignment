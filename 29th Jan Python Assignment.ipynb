{
 "cells": [
  {
   "cell_type": "markdown",
   "id": "ccfdc2bb-0848-494f-9fed-de0944357166",
   "metadata": {},
   "source": [
    "#                                              Python Basics Question:"
   ]
  },
  {
   "cell_type": "markdown",
   "id": "9a89489b-e64a-43e4-be57-5c9556b17f63",
   "metadata": {},
   "source": [
    "## 1. Who Developed Python Programming Language? \n",
    "#### Guido van Rossum developed Python Programming Language ."
   ]
  },
  {
   "cell_type": "markdown",
   "id": "a7c0d263-2be1-44c9-bcc0-7221e538b179",
   "metadata": {},
   "source": [
    "## 2.Which type of programming does python support?\n",
    "#### Python support Object-oriented Programming and structured programming .\n"
   ]
  },
  {
   "cell_type": "markdown",
   "id": "0dd86d2b-4cff-4521-8af3-10e675fbcc1f",
   "metadata": {},
   "source": [
    "## 3. Is python case sensitive when dealing with identifiers?\n",
    "#### Yes , python is case sensitive language.This means that it considers uppercase and lowercase letters differently. As a result, in Python, we cannot use two terms with the same characters but different cases interchangeably."
   ]
  },
  {
   "cell_type": "code",
   "execution_count": null,
   "id": "36354831-a424-4c4a-bcc0-f26786ecce48",
   "metadata": {},
   "outputs": [],
   "source": []
  },
  {
   "cell_type": "markdown",
   "id": "e90c4501-6932-417c-9526-3773f87ad73d",
   "metadata": {},
   "source": [
    "## 4. What is the correct extension of python file? \n",
    "#### .py is the extension of python file and .ipynb is the extension of ipython notebook."
   ]
  },
  {
   "cell_type": "markdown",
   "id": "cb47643a-4358-4513-b162-5e1a5db02f0f",
   "metadata": {},
   "source": [
    "## 5. Is python code compiled or interpreted?\n",
    "#### Python is an interpreted language, which means the source code of a Python program is converted into bytecode that is then executed by the Python virtual machine."
   ]
  },
  {
   "cell_type": "markdown",
   "id": "9d23d00b-fa5a-44ff-8e40-ea5bcb9bdee1",
   "metadata": {},
   "source": [
    "## 6. Name a few blocks of code used to define python programming language?\n",
    "#### Indentation is used to define block of code in python."
   ]
  },
  {
   "cell_type": "markdown",
   "id": "213f7fce-0535-4844-9cc4-10612eaf3004",
   "metadata": {},
   "source": [
    "#### For Example: \n",
    "    a=20\n",
    "#### if a>10:\n",
    "#### Print(“a is greater than 10”)\n",
    "#### else :\n",
    "#### print(“a is less than 10”)\n",
    "#### In this above example to define indentation for if block we used tab space or 4 spaces ."
   ]
  },
  {
   "cell_type": "markdown",
   "id": "ff35cbe7-9c89-4b7a-adcf-f4a641b7ee34",
   "metadata": {},
   "source": [
    "## 7. State a character used to give single-line comments in python?\n",
    "#### character is used to give single-line comments in python."
   ]
  },
  {
   "cell_type": "markdown",
   "id": "3fcf1be0-cdd8-421c-ace9-7ce5f8e949d9",
   "metadata": {},
   "source": [
    "## 8. Mention functions which can help us to find the version of python that we are currently working on?\n",
    "####  The function sys. version can help us to find the version of python that we are currently working on."
   ]
  },
  {
   "cell_type": "markdown",
   "id": "e724da64-6fb4-445f-a071-3790ba35014e",
   "metadata": {},
   "source": [
    "## 9. Python supports the creation of anonymous functions at runtime ,using a construct called? \n",
    "#### Lambda"
   ]
  },
  {
   "cell_type": "markdown",
   "id": "49b113f9-5e06-40be-bfd5-2b911153e995",
   "metadata": {},
   "source": [
    "## 10. What does pip stand for python?\n",
    "#### PIP - Preferred Installer Program, it is a command-line utility that installs, reinstalls, or uninstalls PyPI packages ."
   ]
  },
  {
   "cell_type": "markdown",
   "id": "5890a4c0-2ce4-4553-982f-9df4cffaad0f",
   "metadata": {},
   "source": [
    "## 11. Mention a few built-in functions in python?\n",
    "#### print(),type(),id(),sum(),max(),min(),len() are few built-in functions in python."
   ]
  },
  {
   "cell_type": "markdown",
   "id": "b14deba5-a9cc-4bc3-b323-30bac4d57e26",
   "metadata": {},
   "source": [
    "## 12. What is the maximum possible length of an identifier in python?\n",
    "#### An identifier can have a maximum length of 79 characters in Python."
   ]
  },
  {
   "cell_type": "markdown",
   "id": "9f15e9c1-1fe3-4634-85fe-226ca6b597f1",
   "metadata": {},
   "source": [
    "## 13. What are the benefits of using python?\n",
    "#### Python is simple to use and understand , dynamically typed , Free and open source, portability etc"
   ]
  },
  {
   "cell_type": "markdown",
   "id": "93092a39-af30-43b6-bb52-9613b2e0a9b8",
   "metadata": {},
   "source": [
    "## 14. How is memory managed in python?\n",
    "#### Memory in Python is managed by Python private heap space. All Python objects and data structures are located in a private heap. This private heap is taken care of by Python Interpreter itself, and a programmer doesn't have access to this private heap."
   ]
  },
  {
   "cell_type": "markdown",
   "id": "816e53ec-6a29-4fef-ba30-4a8bf2c32a35",
   "metadata": {},
   "source": [
    "## 15. How to install python on windows and set path variables?\n",
    "#### Open the official Python website in your web browser. And download the latest python version\n",
    "#### Run the Executable installer.\n",
    "#### Add Python to PATH environmental variables\n",
    "#### To verify the python installation through the command line. Open command prompt and type “python”."
   ]
  },
  {
   "cell_type": "markdown",
   "id": "e68b2291-aeeb-4d17-9d16-cbbc5eb7282d",
   "metadata": {},
   "source": [
    "## 16. Is indentation required in python?\n",
    "#### Indentation is mandatory in python to define the blocks of statements. The number of spaces must be uniform in a block of code. It is preferred to use whitespaces instead of tabs to indent in python.\n",
    "##### Footer\n",
    "##### © 2023 GitHub, Inc.\n",
    "##### Footer navigation\n",
    "##### Terms\n",
    "##### Privacy\n",
    "##### Security\n",
    "##### Status\n",
    "##### Docs\n",
    "##### Contact GitHub\n",
    "##### Pricing\n",
    "##### API\n",
    "##### Training\n",
    "##### Blog\n",
    "##### About\n"
   ]
  }
 ],
 "metadata": {
  "kernelspec": {
   "display_name": "Python 3 (ipykernel)",
   "language": "python",
   "name": "python3"
  },
  "language_info": {
   "codemirror_mode": {
    "name": "ipython",
    "version": 3
   },
   "file_extension": ".py",
   "mimetype": "text/x-python",
   "name": "python",
   "nbconvert_exporter": "python",
   "pygments_lexer": "ipython3",
   "version": "3.10.8"
  }
 },
 "nbformat": 4,
 "nbformat_minor": 5
}
