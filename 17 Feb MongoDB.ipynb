{
 "cells": [
  {
   "cell_type": "markdown",
   "id": "687ce26e-7497-4526-8b94-cbb2e2ed6752",
   "metadata": {},
   "source": [
    "## Q1. What is MongoDB? Explain non-relational databases in short. In which scenarios it is preferred to use MongoDB over SQL databases?"
   ]
  },
  {
   "cell_type": "markdown",
   "id": "3e251a2f-fc18-4aa9-a35b-0260fc4a1c41",
   "metadata": {},
   "source": [
    "#### MongoDB is a document-oriented NoSQL database that provides high scalability, performance, and flexibility. It uses a flexible data model based on documents, which allows for easy storage and retrieval of data in various formats, including unstructured and semi-structured data. MongoDB is a popular choice for building modern, data-driven applications that require the handling of large volumes of data.\n",
    "\n",
    "#### Non-relational databases, or NoSQL databases, are databases that do not use a traditional relational data model. They provide a flexible data model that allows for the storage and retrieval of data in various formats, including semi-structured and unstructured data, and they typically provide high scalability, performance, and availability.\n",
    "\n",
    "#### There are several scenarios where MongoDB is preferred over SQL databases:\n",
    "\n",
    "#### Large volumes of data: MongoDB is optimized for handling large volumes of data and provides high scalability, making it a good choice for applications that need to handle large data sets.\n",
    "\n",
    "#### Flexible data models: MongoDB's document-based data model allows for flexible storage of data in various formats, including semi-structured and unstructured data, making it a good choice for applications that require this type of flexibility.\n",
    "\n",
    "#### Agile development: MongoDB is well-suited for agile development methodologies as it provides flexibility in data modeling and can easily accommodate changes to data structures.\n",
    "\n",
    "#### Real-time analytics: MongoDB supports real-time analytics and reporting, making it a good choice for applications that require real-time data processing and analysis.\n",
    "\n",
    "#### Cloud-native applications: MongoDB is designed for cloud-native applications and provides built-in support for containerization, orchestration, and deployment in cloud environments.\n",
    "\n",
    "#### In summary, MongoDB is a popular choice for building modern, data-driven applications that require handling of large volumes of data, have flexible data models, and need to be developed using agile methodologies."
   ]
  },
  {
   "cell_type": "markdown",
   "id": "933c68c4-7e87-4447-a81e-b9951361930d",
   "metadata": {},
   "source": [
    "## Q2. State and Explain the features of MongoDB."
   ]
  },
  {
   "cell_type": "markdown",
   "id": "0d06ddce-414c-40c5-8a36-99233768657d",
   "metadata": {},
   "source": [
    "#### MongoDB is a document-oriented NoSQL database that provides a wide range of features. Some of the key features of MongoDB are:\n",
    "\n",
    "#### **Document** -based data model: MongoDB uses a document-based data model to store data, which is highly flexible and allows for the storage of data in various formats, including semi-structured and unstructured data.\n",
    "\n",
    "#### **Scalability**: MongoDB is highly scalable and can handle large volumes of data with ease. It provides built-in support for sharding and replication, which allows for horizontal scaling of data across multiple servers.\n",
    "\n",
    "#### **High availability**: MongoDB provides automatic failover and replication, ensuring that data is always available and accessible even in the event of hardware or software failures.\n",
    "\n",
    "#### **Flexible querying and indexing**: MongoDB supports flexible querying and indexing of data, allowing for fast and efficient retrieval of data based on complex queries.\n",
    "\n",
    "#### **Aggregation and real-time analytics**: MongoDB provides support for aggregation and real-time analytics, allowing for complex data processing and analysis.\n",
    "\n",
    "#### **Auto-sharding and load balancing**: MongoDB automatically manages data distribution and load balancing across multiple servers, making it easy to scale applications as data volumes grow.\n",
    "\n",
    "#### **Rich query language**: MongoDB provides a rich query language that supports advanced query features such as ad-hoc queries, indexing, sorting, and projection.\n",
    "\n",
    "#### **Geospatial queries**: MongoDB provides built-in support for geospatial queries, allowing for easy storage and retrieval of location-based data.\n",
    "\n",
    "#### **Rich driver and tool ecosystem**: MongoDB has a rich driver and tool ecosystem, making it easy to integrate with popular programming languages and tools.\n",
    "\n",
    "#### **Document-level atomic operations**: MongoDB supports document-level atomic operations, ensuring that data remains consistent and accurate even in the event of concurrent writes.\n",
    "\n",
    "#### In summary, MongoDB provides a flexible, scalable, and highly available NoSQL database solution that is optimized for modern, data-driven applications. Its document-based data model, rich query language, and flexible indexing and querying make it a popular choice for building complex applications that require the handling of large volumes of data."
   ]
  },
  {
   "cell_type": "markdown",
   "id": "163b3430-1b58-41cb-bf79-d4661eb4de23",
   "metadata": {},
   "source": [
    "## Q3. Write a code to connect MongoDB to Python. Also, create a database and a collection in MongoDB."
   ]
  },
  {
   "cell_type": "code",
   "execution_count": null,
   "id": "c00885b3-de56-4c4c-adc0-8fa2442dd5ca",
   "metadata": {},
   "outputs": [],
   "source": [
    "import pymongo\n",
    "\n",
    "# Connect to MongoDB\n",
    "client = pymongo.MongoClient('mongodb://localhost:27017/')\n",
    "\n",
    "# Create a database\n",
    "db = client['mydatabase']\n",
    "\n",
    "# Create a collection\n",
    "col = db['mycollection']\n",
    "\n",
    "# Insert a document into the collection\n",
    "doc = {'name': 'John', 'age': 30}\n",
    "col.insert_one(doc)\n"
   ]
  },
  {
   "cell_type": "markdown",
   "id": "82501c94-4af8-4e56-97c9-cd655238df2b",
   "metadata": {},
   "source": [
    "## Q4. Using the database and the collection created in question number 3, write a code to insert one record, and insert many records. Use the find() and find_one() methods to print the inserted record."
   ]
  },
  {
   "cell_type": "code",
   "execution_count": null,
   "id": "c3de70c6-2c35-4691-9259-524b54f63eb7",
   "metadata": {},
   "outputs": [],
   "source": [
    "import pymongo\n",
    "\n",
    "# Connect to MongoDB\n",
    "client = pymongo.MongoClient('mongodb://localhost:27017/')\n",
    "db = client['mydatabase']\n",
    "col = db['mycollection']\n",
    "\n",
    "# Insert one record\n",
    "doc = {'name': 'Alice', 'age': 25, 'email': 'alice@example.com'}\n",
    "result = col.insert_one(doc)\n",
    "print('Inserted record id:', result.inserted_id)\n",
    "\n",
    "# Insert multiple records\n",
    "docs = [\n",
    "    {'name': 'Bob', 'age': 30, 'email': 'bob@example.com'},\n",
    "    {'name': 'Charlie', 'age': 35, 'email': 'charlie@example.com'},\n",
    "    {'name': 'David', 'age': 40, 'email': 'david@example.com'},\n",
    "]\n",
    "result = col.insert_many(docs)\n",
    "print('Inserted record ids:', result.inserted_ids)\n",
    "\n",
    "# Print inserted record using find_one()\n",
    "print('Record found using find_one():', col.find_one({'name': 'Alice'}))\n",
    "\n",
    "# Print inserted records using find()\n",
    "print('Records found using find():')\n",
    "for record in col.find():\n",
    "    print(record)\n"
   ]
  },
  {
   "cell_type": "markdown",
   "id": "739e2983-a488-4569-9ac9-0c3a09101ec2",
   "metadata": {},
   "source": [
    "## Q5. Explain how you can use the find() method to query the MongoDB database. Write a simple code to demonstrate this."
   ]
  },
  {
   "cell_type": "markdown",
   "id": "9cd8c19f-6b9d-49cf-b0b9-e0d99f4ae67f",
   "metadata": {},
   "source": [
    "#### In MongoDB, you can use the find() method to query the database and retrieve documents that match specific criteria. The find() method returns a cursor object, which you can iterate over to access the documents.\n",
    "\n",
    "#### Here's an example code that demonstrates how to use the find() method to query a MongoDB collection based on a specific criteria:"
   ]
  },
  {
   "cell_type": "code",
   "execution_count": null,
   "id": "9b862e42-faae-4a23-966d-322766418243",
   "metadata": {},
   "outputs": [],
   "source": [
    "import pymongo\n",
    "\n",
    "# Connect to MongoDB\n",
    "client = pymongo.MongoClient('mongodb://localhost:27017/')\n",
    "db = client['mydatabase']\n",
    "col = db['mycollection']\n",
    "\n",
    "# Query the collection using find()\n",
    "query = {'age': {'$gte': 30}}  # retrieve documents where age >= 30\n",
    "cursor = col.find(query)\n",
    "\n",
    "# Print the documents returned by the query\n",
    "print('Documents found using find():')\n",
    "for doc in cursor:\n",
    "    print(doc)"
   ]
  },
  {
   "cell_type": "markdown",
   "id": "9d501c1c-94b1-4950-a243-997a7ae07560",
   "metadata": {},
   "source": [
    "## Q6. Explain the sort() method. Give an example to demonstrate sorting in MongoDB."
   ]
  },
  {
   "cell_type": "markdown",
   "id": "a4a2cac6-0703-4e9b-b3fa-2831c5a13bbe",
   "metadata": {},
   "source": [
    "#### In MongoDB, you can use the sort() method to sort the documents in a collection based on one or more fields. The sort() method takes one argument, which is a dictionary specifying the fields to sort by and the order of sorting.\n",
    "\n",
    "#### Here's an example code that demonstrates how to use the sort() method to sort a MongoDB collection based on a specific field:"
   ]
  },
  {
   "cell_type": "code",
   "execution_count": null,
   "id": "c58e476d-1947-4b15-bd22-14375308db21",
   "metadata": {},
   "outputs": [],
   "source": [
    "import pymongo\n",
    "\n",
    "# Connect to MongoDB\n",
    "client = pymongo.MongoClient('mongodb://localhost:27017/')\n",
    "db = client['mydatabase']\n",
    "col = db['mycollection']\n",
    "\n",
    "# Insert some sample data\n",
    "docs = [\n",
    "    {'name': 'Teena', 'age': 25, 'email': 'Teena@example.com'},\n",
    "    {'name': 'Meena', 'age': 30, 'email': 'Meena@example.com'},\n",
    "    {'name': 'Heena', 'age': 35, 'email': 'Heena@example.com'},\n",
    "    {'name': 'reena', 'age': 40, 'email': 'reena@example.com'},\n",
    "]\n",
    "result = col.insert_many(docs)\n",
    "\n",
    "# Sort the collection using sort()\n",
    "query = {}  # retrieve all documents\n",
    "sort_order = [('age', pymongo.ASCENDING)]  # sort by age field in ascending order\n",
    "cursor = col.find(query).sort(sort_order)\n",
    "\n",
    "# Print the sorted documents\n",
    "print('Documents sorted by age:')\n",
    "for doc in cursor:\n",
    "    print(doc)\n"
   ]
  },
  {
   "cell_type": "markdown",
   "id": "0da77221-573a-425d-a606-97f1f63d117a",
   "metadata": {},
   "source": [
    "## Q7. Explain why delete_one(), delete_many(), and drop() is used."
   ]
  },
  {
   "cell_type": "markdown",
   "id": "7c7202a4-9949-410b-9d7e-41ddeaddff60",
   "metadata": {},
   "source": [
    "#### In MongoDB, delete_one(), delete_many(), and drop() are methods used to remove data from a collection or an entire database.\n",
    "\n",
    "#### **delete_one()** is used to delete a single document that matches a specific filter. It takes a filter object as an argument, which specifies the criteria for the document to delete. If multiple documents match the filter, delete_one() only deletes the first document it encounters.\n",
    "\n",
    "#### **delete_many()** is used to delete all documents that match a specific filter. It takes a filter object as an argument, which specifies the criteria for the documents to delete.\n",
    "\n",
    "#### **drop()** is used to delete an entire collection or database. It takes no arguments and simply removes the entire collection or database.\n",
    "\n",
    "#### These methods are used for a variety of reasons, such as removing outdated or irrelevant data, deleting test data, or resetting a database to its initial state.\n",
    "\n",
    "#### It's important to use these methods with caution as they can result in permanent data loss. Always make sure to confirm that you are deleting the correct data before executing any of these methods."
   ]
  },
  {
   "cell_type": "code",
   "execution_count": null,
   "id": "c8367ac1-bbcc-4484-9674-ad8f9aca3cac",
   "metadata": {},
   "outputs": [],
   "source": []
  }
 ],
 "metadata": {
  "kernelspec": {
   "display_name": "Python 3 (ipykernel)",
   "language": "python",
   "name": "python3"
  },
  "language_info": {
   "codemirror_mode": {
    "name": "ipython",
    "version": 3
   },
   "file_extension": ".py",
   "mimetype": "text/x-python",
   "name": "python",
   "nbconvert_exporter": "python",
   "pygments_lexer": "ipython3",
   "version": "3.10.8"
  }
 },
 "nbformat": 4,
 "nbformat_minor": 5
}
