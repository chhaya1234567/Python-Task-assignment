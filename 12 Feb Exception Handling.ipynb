{
 "cells": [
  {
   "cell_type": "markdown",
   "id": "ab5bc704-775c-4b4d-b43e-f49bcb247304",
   "metadata": {},
   "source": [
    "## Q1. What is an Exception in pthon? Write the difference between Exceptions and syntax errors"
   ]
  },
  {
   "cell_type": "markdown",
   "id": "630ecae7-dd46-45d1-a062-499d872a4aed",
   "metadata": {},
   "source": [
    "#### In Python, an exception is an error that occurs during the execution of a program. When an exception occurs, the program stops running and Python creates an exception object that contains information about the error, such as the type of error and where it occurred in the code.\n",
    "#### *Syntax errors*, on the other hand, occur when there is a mistake in the syntax of the Python code. These errors are caught by the Python interpreter before the code is executed, and they prevent the code from running at all.\n",
    "#### the main difference between exceptions and syntax errors is that exceptions occur during the execution of the code, while syntax errors occur before the code is executed.\n",
    "##### Here is an example of a syntax error:"
   ]
  },
  {
   "cell_type": "code",
   "execution_count": 1,
   "id": "2c51b7ff-987d-45b6-8f13-b836f1e2f716",
   "metadata": {},
   "outputs": [
    {
     "ename": "SyntaxError",
     "evalue": "unterminated string literal (detected at line 1) (2327124038.py, line 1)",
     "output_type": "error",
     "traceback": [
      "\u001b[0;36m  Cell \u001b[0;32mIn[1], line 1\u001b[0;36m\u001b[0m\n\u001b[0;31m    print(\"Hello, world!)\u001b[0m\n\u001b[0m          ^\u001b[0m\n\u001b[0;31mSyntaxError\u001b[0m\u001b[0;31m:\u001b[0m unterminated string literal (detected at line 1)\n"
     ]
    }
   ],
   "source": [
    "print(\"Hello, world!)\n"
   ]
  },
  {
   "cell_type": "markdown",
   "id": "2874c95a-bb8f-4f05-925b-53035f4d24db",
   "metadata": {},
   "source": [
    "##### Here is an example of an exception:"
   ]
  },
  {
   "cell_type": "code",
   "execution_count": 2,
   "id": "2500ea2e-2aa1-4843-8ba9-487b69112bc0",
   "metadata": {},
   "outputs": [
    {
     "ename": "ZeroDivisionError",
     "evalue": "division by zero",
     "output_type": "error",
     "traceback": [
      "\u001b[0;31m---------------------------------------------------------------------------\u001b[0m",
      "\u001b[0;31mZeroDivisionError\u001b[0m                         Traceback (most recent call last)",
      "Cell \u001b[0;32mIn[2], line 3\u001b[0m\n\u001b[1;32m      1\u001b[0m a \u001b[38;5;241m=\u001b[39m \u001b[38;5;241m5\u001b[39m\n\u001b[1;32m      2\u001b[0m b \u001b[38;5;241m=\u001b[39m \u001b[38;5;241m0\u001b[39m\n\u001b[0;32m----> 3\u001b[0m c \u001b[38;5;241m=\u001b[39m \u001b[43ma\u001b[49m\u001b[38;5;241;43m/\u001b[39;49m\u001b[43mb\u001b[49m\n",
      "\u001b[0;31mZeroDivisionError\u001b[0m: division by zero"
     ]
    }
   ],
   "source": [
    "a = 5\n",
    "b = 0\n",
    "c = a/b\n"
   ]
  },
  {
   "cell_type": "markdown",
   "id": "aef4f27c-c75b-43a8-a1f9-866d21993558",
   "metadata": {},
   "source": [
    "## Q2. What happens when an exception is not handled? Explain with an example"
   ]
  },
  {
   "cell_type": "markdown",
   "id": "042a8e3b-beae-4539-af1a-41fb25f9d1be",
   "metadata": {},
   "source": [
    "#### When an exception is not handled in Python, the program will terminate and print a traceback message that shows the type of exception, the message associated with the exception, and the line number in the code where the exception occurred.\n",
    "#### Here is an example:"
   ]
  },
  {
   "cell_type": "code",
   "execution_count": 3,
   "id": "091dff02-01d9-4951-9132-2ccc1d8b2f43",
   "metadata": {},
   "outputs": [
    {
     "ename": "ZeroDivisionError",
     "evalue": "division by zero",
     "output_type": "error",
     "traceback": [
      "\u001b[0;31m---------------------------------------------------------------------------\u001b[0m",
      "\u001b[0;31mZeroDivisionError\u001b[0m                         Traceback (most recent call last)",
      "Cell \u001b[0;32mIn[3], line 3\u001b[0m\n\u001b[1;32m      1\u001b[0m a \u001b[38;5;241m=\u001b[39m \u001b[38;5;241m5\u001b[39m\n\u001b[1;32m      2\u001b[0m b \u001b[38;5;241m=\u001b[39m \u001b[38;5;241m0\u001b[39m\n\u001b[0;32m----> 3\u001b[0m c \u001b[38;5;241m=\u001b[39m \u001b[43ma\u001b[49m\u001b[38;5;241;43m/\u001b[39;49m\u001b[43mb\u001b[49m\n\u001b[1;32m      4\u001b[0m \u001b[38;5;28mprint\u001b[39m(c)\n",
      "\u001b[0;31mZeroDivisionError\u001b[0m: division by zero"
     ]
    }
   ],
   "source": [
    "a = 5\n",
    "b = 0\n",
    "c = a/b\n",
    "print(c)\n",
    "### In this code, we are trying to divide the variable a by the variable b. Since b is 0, we will get a ZeroDivisionError exception. If we run this code, Python will terminate the program and print a traceback message that shows the error:"
   ]
  },
  {
   "cell_type": "markdown",
   "id": "8abfff1a-0f60-446d-95d3-84123604b412",
   "metadata": {},
   "source": [
    "#### In this case, since we did not handle the exception, the program terminated and did not print the value of c. To handle the exception, we can use a try-except block to catch the exception and handle it in some way:"
   ]
  },
  {
   "cell_type": "code",
   "execution_count": 4,
   "id": "f6842354-2da1-49db-bbe5-611ebe98ef83",
   "metadata": {},
   "outputs": [
    {
     "name": "stdout",
     "output_type": "stream",
     "text": [
      "Cannot divide by zero\n"
     ]
    }
   ],
   "source": [
    "a = 5\n",
    "b = 0\n",
    "try:\n",
    "    c = a/b\n",
    "except ZeroDivisionError:\n",
    "    print(\"Cannot divide by zero\")\n",
    "else:\n",
    "    print(c)\n",
    "## In this code, we are using a try-except block to catch the ZeroDivisionError exception. If the exception occurs, we print a message saying that we cannot divide by zero. If the exception does not occur, we print the value of c."
   ]
  },
  {
   "cell_type": "markdown",
   "id": "c8f8d8ef-241a-400f-8e57-b295be4e4a05",
   "metadata": {},
   "source": [
    "## Q3. Which Python statements are used to catch and handle exceptions? Explain with example"
   ]
  },
  {
   "cell_type": "markdown",
   "id": "9b2711ad-b1d2-4174-8e1a-0ee6ca250343",
   "metadata": {},
   "source": [
    "#### In Python, we can catch and handle exceptions using the try and except statements.\n",
    "#### The basic syntax of a try-except block is:"
   ]
  },
  {
   "cell_type": "code",
   "execution_count": null,
   "id": "275fd520-c8e5-48ba-9e1e-f453c8818b49",
   "metadata": {},
   "outputs": [],
   "source": [
    "try:\n",
    "    # code that might raise an exception\n",
    "except ExceptionType:\n",
    "    # code to handle the exception"
   ]
  },
  {
   "cell_type": "code",
   "execution_count": 6,
   "id": "2f67c9d7-64a6-433c-bb1d-601b02cff189",
   "metadata": {},
   "outputs": [
    {
     "name": "stdin",
     "output_type": "stream",
     "text": [
      "Enter a number:  10\n"
     ]
    },
    {
     "name": "stdout",
     "output_type": "stream",
     "text": [
      "The result is: 0.1\n"
     ]
    }
   ],
   "source": [
    "## Example\n",
    "try:\n",
    "    x = int(input(\"Enter a number: \"))\n",
    "    y = 1 / x\n",
    "except ZeroDivisionError:\n",
    "    print(\"Cannot divide by zero\")\n",
    "except ValueError:\n",
    "    print(\"Input must be a number\")\n",
    "else:\n",
    "    print(\"The result is:\", y)\n"
   ]
  },
  {
   "cell_type": "markdown",
   "id": "9c8cfaff-1d10-4260-953d-5708be4d71c6",
   "metadata": {},
   "source": [
    "## Q4. Explain with example : (a). try and else (b). Finally (c). raise"
   ]
  },
  {
   "cell_type": "markdown",
   "id": "d69b7479-7b55-4c29-b2b3-427c1acb8d8d",
   "metadata": {},
   "source": [
    "#### (a) *try and else*: In addition to the except clause, the try block can also have an else clause, which is executed if no exception is raised in the try block.\n",
    "#### Here is an example:"
   ]
  },
  {
   "cell_type": "code",
   "execution_count": 7,
   "id": "2465bd9f-2b84-4bcb-8f56-4b073b21de03",
   "metadata": {},
   "outputs": [
    {
     "name": "stdin",
     "output_type": "stream",
     "text": [
      "Enter a number:  20\n"
     ]
    },
    {
     "name": "stdout",
     "output_type": "stream",
     "text": [
      "The result is: 0.05\n"
     ]
    }
   ],
   "source": [
    "try:\n",
    "    x = int(input(\"Enter a number: \"))\n",
    "    y = 1 / x\n",
    "except ZeroDivisionError:\n",
    "    print(\"Cannot divide by zero\")\n",
    "except ValueError:\n",
    "    print(\"Input must be a number\")\n",
    "else:\n",
    "    print(\"The result is:\", y)\n"
   ]
  },
  {
   "cell_type": "markdown",
   "id": "c636dcc4-9770-443b-a702-d7aa8a4d0e1e",
   "metadata": {},
   "source": [
    "#### (b) *finally*: The finally block is executed regardless of whether an exception was raised or not. It is used to perform cleanup actions such as closing files or network connections.\n",
    "#### Here is an example:"
   ]
  },
  {
   "cell_type": "code",
   "execution_count": null,
   "id": "797ecd6e-65da-4649-ae3b-dcc625303851",
   "metadata": {},
   "outputs": [],
   "source": [
    "try:\n",
    "    f = open(\"file.txt\", \"r\")\n",
    "    # code to read from the file\n",
    "finally:\n",
    "    f.close()\n"
   ]
  },
  {
   "cell_type": "markdown",
   "id": "10738841-9e9a-41be-8ac9-abaf74ab7b84",
   "metadata": {},
   "source": [
    "#### (c) *raise* : In Python, we can raise exceptions using the raise statement. This is useful when we want to indicate that something unexpected has occurred and we want to terminate the program or raise an error message.\n",
    "#### Here is an example:"
   ]
  },
  {
   "cell_type": "code",
   "execution_count": 10,
   "id": "68dbaa37-77b3-47af-b698-87f76d2b0be3",
   "metadata": {},
   "outputs": [
    {
     "name": "stdin",
     "output_type": "stream",
     "text": [
      "Enter a positive number:  50\n"
     ]
    },
    {
     "name": "stdout",
     "output_type": "stream",
     "text": [
      "The square of 50 is 2500\n"
     ]
    }
   ],
   "source": [
    "x = int(input(\"Enter a positive number: \"))\n",
    "if x < 0:\n",
    "    raise ValueError(\"Number must be positive\")\n",
    "else:\n",
    "    print(\"The square of\", x, \"is\", x**2)\n"
   ]
  },
  {
   "cell_type": "markdown",
   "id": "08a26281-575a-48a7-a8dd-d2c2547e07c9",
   "metadata": {},
   "source": [
    "## Q5. What are the custom exceptions in python? Why do we need custom exceptions ? Explain with an example"
   ]
  },
  {
   "cell_type": "markdown",
   "id": "330bcc14-46f2-4813-a2e9-1e222d1d0c08",
   "metadata": {},
   "source": [
    "#### Custom exceptions are the exceptions that are defined by the programmer. These exceptions are derived from the base Exception class. Custom exceptions are used to handle situations specific to the program and provide a clear and concise message to the user. We need custom exceptions to provide more specific and meaningful error messages to the user. It helps to identify and resolve the errors more easily."
   ]
  },
  {
   "cell_type": "code",
   "execution_count": 11,
   "id": "781b9cc2-4a0a-4bfa-a7dc-142a30b8b1b6",
   "metadata": {},
   "outputs": [
    {
     "name": "stdout",
     "output_type": "stream",
     "text": [
      "Error: Tax rate must be between 0 and 100\n"
     ]
    }
   ],
   "source": [
    "## Let's say we are creating a program to calculate the total bill amount for a restaurant. In this program, we have a function to calculate the tax amount. If the tax rate entered by the user is not in the range of 0 to 100, we want to raise a custom exception with a specific error message.\n",
    "## Here is an example code\n",
    "class InvalidTaxRateError(Exception):\n",
    "    pass\n",
    "\n",
    "def calculate_tax(bill_amount, tax_rate):\n",
    "    if tax_rate < 0 or tax_rate > 100:\n",
    "        raise InvalidTaxRateError(\"Tax rate must be between 0 and 100\")\n",
    "    else:\n",
    "        tax_amount = bill_amount * tax_rate / 100\n",
    "        return tax_amount\n",
    "\n",
    "try:\n",
    "    total_amount = calculate_tax(500, 110)\n",
    "    print(\"Total amount including tax:\", total_amount)\n",
    "except InvalidTaxRateError as e:\n",
    "    print(\"Error:\", e)\n"
   ]
  },
  {
   "cell_type": "markdown",
   "id": "27996f37-4909-4c48-abbd-be8bc7de04ca",
   "metadata": {},
   "source": [
    "## Q6. Create custom exception class. Use this class to handle exception"
   ]
  },
  {
   "cell_type": "code",
   "execution_count": 12,
   "id": "7a02d537-c40a-40f6-9915-ee57ca3ed065",
   "metadata": {},
   "outputs": [
    {
     "name": "stdout",
     "output_type": "stream",
     "text": [
      "Error: Cannot calculate square root of a negative number\n"
     ]
    }
   ],
   "source": [
    "class NegativeNumberError(Exception):\n",
    "    def __init__(self, message):\n",
    "        super().__init__(message)\n",
    "\n",
    "def square_root(n):\n",
    "    if n < 0:\n",
    "        raise NegativeNumberError(\"Cannot calculate square root of a negative number\")\n",
    "    else:\n",
    "        return n ** 0.5\n",
    "\n",
    "try:\n",
    "    result = square_root(-4)\n",
    "    print(result)\n",
    "except NegativeNumberError as e:\n",
    "    print(\"Error:\", e)\n"
   ]
  },
  {
   "cell_type": "code",
   "execution_count": null,
   "id": "08a39102-add9-4d34-ac8c-b9d0b80981b0",
   "metadata": {},
   "outputs": [],
   "source": []
  }
 ],
 "metadata": {
  "kernelspec": {
   "display_name": "Python 3 (ipykernel)",
   "language": "python",
   "name": "python3"
  },
  "language_info": {
   "codemirror_mode": {
    "name": "ipython",
    "version": 3
   },
   "file_extension": ".py",
   "mimetype": "text/x-python",
   "name": "python",
   "nbconvert_exporter": "python",
   "pygments_lexer": "ipython3",
   "version": "3.10.8"
  }
 },
 "nbformat": 4,
 "nbformat_minor": 5
}
